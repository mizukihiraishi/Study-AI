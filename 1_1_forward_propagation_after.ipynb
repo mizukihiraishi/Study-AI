{
  "cells": [
    {
      "cell_type": "markdown",
      "metadata": {
        "id": "8cNl2QA_Rnv5"
      },
      "source": [
        "# 準備"
      ]
    },
    {
      "cell_type": "markdown",
      "metadata": {
        "id": "YkwjN1jNVAYy"
      },
      "source": [
        "## Googleドライブのマウント"
      ]
    },
    {
      "cell_type": "code",
      "metadata": {
        "colab": {
          "base_uri": "https://localhost:8080/"
        },
        "id": "pvFXpiH3EVC1",
        "outputId": "7baa8eca-b4d2-41a8-b693-3d567ad10b85"
      },
      "source": [
        "from google.colab import drive\n",
        "drive.mount('/content/drive')"
      ],
      "execution_count": 1,
      "outputs": [
        {
          "output_type": "stream",
          "name": "stdout",
          "text": [
            "Mounted at /content/drive\n"
          ]
        }
      ]
    },
    {
      "cell_type": "markdown",
      "metadata": {
        "id": "3Ub7RYdeY6pK"
      },
      "source": [
        "## sys.pathの設定"
      ]
    },
    {
      "cell_type": "markdown",
      "metadata": {
        "id": "oql7L19rEsWi"
      },
      "source": [
        "以下では，Googleドライブのマイドライブ直下にDNN_codeフォルダを置くことを仮定しています．必要に応じて，パスを変更してください．"
      ]
    },
    {
      "cell_type": "code",
      "execution_count": 2,
      "metadata": {
        "id": "8n_NwEUIALTT"
      },
      "outputs": [],
      "source": [
        "import sys\n",
        "sys.path.append('/content/drive/My Drive/DNN_code')"
      ]
    },
    {
      "cell_type": "markdown",
      "metadata": {
        "id": "k5L0AWliZYng"
      },
      "source": [
        "# importと関数定義"
      ]
    },
    {
      "cell_type": "code",
      "execution_count": 3,
      "metadata": {
        "id": "RL_4XXTRZU9o"
      },
      "outputs": [],
      "source": [
        "import numpy as np\n",
        "from common import functions\n",
        "\n",
        "def print_vec(text, vec):\n",
        "    print(\"*** \" + text + \" ***\")\n",
        "    print(vec)\n",
        "    print(\"shape: \" + str(vec.shape))\n",
        "    print(\"\")\n"
      ]
    },
    {
      "cell_type": "markdown",
      "metadata": {
        "id": "XuenidMvaB2B"
      },
      "source": [
        "# 順伝播（単層・単ユニット）"
      ]
    },
    {
      "cell_type": "code",
      "execution_count": 4,
      "metadata": {
        "colab": {
          "base_uri": "https://localhost:8080/"
        },
        "id": "p5B79nZLRKSk",
        "scrolled": true,
        "outputId": "90482894-aa7b-484d-999e-311f8c8e4d93"
      },
      "outputs": [
        {
          "output_type": "stream",
          "name": "stdout",
          "text": [
            "*** 重み ***\n",
            "[[0.1]\n",
            " [0.2]]\n",
            "shape: (2, 1)\n",
            "\n",
            "*** バイアス ***\n",
            "0.5\n",
            "shape: ()\n",
            "\n",
            "*** 入力 ***\n",
            "[2 3]\n",
            "shape: (2,)\n",
            "\n",
            "*** 総入力 ***\n",
            "[1.3]\n",
            "shape: (1,)\n",
            "\n",
            "*** 中間層出力 ***\n",
            "[1.3]\n",
            "shape: (1,)\n",
            "\n"
          ]
        }
      ],
      "source": [
        "# 順伝播（単層・単ユニット）\n",
        "\n",
        "# 重み\n",
        "W = np.array([[0.1], [0.2]])\n",
        "\n",
        "## 試してみよう_配列の初期化\n",
        "#W = np.zeros(2)\n",
        "#W = np.ones(2)\n",
        "#W = np.random.rand(2)\n",
        "#W = np.random.randint(5, size=(2))\n",
        "\n",
        "print_vec(\"重み\", W)\n",
        "\n",
        "\n",
        "# バイアス\n",
        "b = np.array(0.5)\n",
        "\n",
        "## 試してみよう_数値の初期化\n",
        "#b = np.random.rand() # 0~1のランダム数値\n",
        "#b = np.random.rand() * 10 -5  # -5~5のランダム数値\n",
        "\n",
        "print_vec(\"バイアス\", b)\n",
        "\n",
        "# 入力値\n",
        "x = np.array([2, 3])\n",
        "print_vec(\"入力\", x)\n",
        "\n",
        "\n",
        "# 総入力\n",
        "u = np.dot(x, W) + b\n",
        "print_vec(\"総入力\", u)\n",
        "\n",
        "# 中間層出力\n",
        "z = functions.relu(u)\n",
        "print_vec(\"中間層出力\", z)\n"
      ]
    },
    {
      "cell_type": "markdown",
      "metadata": {
        "id": "HAwve_JHaGh7"
      },
      "source": [
        "# 順伝播（単層・複数ユニット）"
      ]
    },
    {
      "cell_type": "code",
      "execution_count": 5,
      "metadata": {
        "colab": {
          "base_uri": "https://localhost:8080/"
        },
        "id": "mXUakK8URKSo",
        "outputId": "f4b88a55-d90a-44fc-eaec-209f1db85d6b"
      },
      "outputs": [
        {
          "output_type": "stream",
          "name": "stdout",
          "text": [
            "*** 重み ***\n",
            "[[0.1 0.2 0.3 0. ]\n",
            " [0.2 0.3 0.4 0.5]\n",
            " [0.3 0.4 0.5 1. ]]\n",
            "shape: (3, 4)\n",
            "\n",
            "*** バイアス ***\n",
            "[0.1 0.2 0.3]\n",
            "shape: (3,)\n",
            "\n",
            "*** 入力 ***\n",
            "[ 1.  5.  2. -1.]\n",
            "shape: (4,)\n",
            "\n",
            "*** 総入力 ***\n",
            "[1.8 2.2 2.6]\n",
            "shape: (3,)\n",
            "\n",
            "*** 中間層出力 ***\n",
            "[0.85814894 0.90024951 0.93086158]\n",
            "shape: (3,)\n",
            "\n"
          ]
        }
      ],
      "source": [
        "# 順伝播（単層・複数ユニット）\n",
        "\n",
        "# 重み\n",
        "W = np.array([\n",
        "    [0.1, 0.2, 0.3,0], \n",
        "    [0.2, 0.3, 0.4, 0.5], \n",
        "    [0.3, 0.4, 0.5, 1],\n",
        "])\n",
        "\n",
        "## 試してみよう_配列の初期化\n",
        "#W = np.zeros((4,3))\n",
        "#W = np.ones((4,3))\n",
        "#W = np.random.rand(4,3)\n",
        "#W = np.random.randint(5, size=(4,3))\n",
        "\n",
        "print_vec(\"重み\", W)\n",
        "\n",
        "# バイアス\n",
        "b = np.array([0.1, 0.2, 0.3])\n",
        "print_vec(\"バイアス\", b)\n",
        "\n",
        "# 入力値\n",
        "x = np.array([1.0, 5.0, 2.0, -1.0])\n",
        "print_vec(\"入力\", x)\n",
        "\n",
        "#  総入力\n",
        "u = np.dot(W, x) + b\n",
        "print_vec(\"総入力\", u)\n",
        "\n",
        "# 中間層出力\n",
        "z = functions.sigmoid(u)\n",
        "print_vec(\"中間層出力\", z)\n"
      ]
    },
    {
      "cell_type": "markdown",
      "metadata": {
        "id": "AzQbeOvwaLb9"
      },
      "source": [
        "# 順伝播（3層・複数ユニット）"
      ]
    },
    {
      "cell_type": "code",
      "execution_count": 6,
      "metadata": {
        "colab": {
          "base_uri": "https://localhost:8080/"
        },
        "id": "gjRA2_PVRKSq",
        "outputId": "0f8956c9-dae6-49e0-9594-beff54a939dd"
      },
      "outputs": [
        {
          "output_type": "stream",
          "name": "stdout",
          "text": [
            "*** 入力 ***\n",
            "[1. 2. 4.]\n",
            "shape: (3,)\n",
            "\n",
            "##### ネットワークの初期化 #####\n",
            "*** 重み1 ***\n",
            "[[0.22259968 0.53645392 0.1413287  0.4271708  0.27793516 0.54704878\n",
            "  0.03254175 0.47123009 0.19529248 0.27510834]\n",
            " [0.13442959 0.74983031 0.42837632 0.14686382 0.64470165 0.83803909\n",
            "  0.66358148 0.59111271 0.12727113 0.41695948]\n",
            " [0.43340195 0.19438912 0.34163713 0.7431423  0.00150636 0.92120634\n",
            "  0.39552601 0.49238495 0.16257488 0.36307025]]\n",
            "shape: (3, 10)\n",
            "\n",
            "*** 重み2 ***\n",
            "[[0.52305854 0.3304766  0.44632527 0.45121383 0.91900788]\n",
            " [0.85775961 0.82170089 0.35987555 0.14467105 0.31182175]\n",
            " [0.83921327 0.66988489 0.29752496 0.92398296 0.79660262]\n",
            " [0.01547924 0.69891995 0.41608982 0.87308761 0.22678827]\n",
            " [0.39939518 0.18409149 0.71145792 0.52715084 0.91546775]\n",
            " [0.47480923 0.86447439 0.13495242 0.75076437 0.09141443]\n",
            " [0.27338121 0.57101485 0.536179   0.65612865 0.38641226]\n",
            " [0.92574295 0.92403294 0.63384495 0.32255512 0.59367061]\n",
            " [0.24993414 0.16184718 0.77486577 0.18116971 0.81361387]\n",
            " [0.50665048 0.59163426 0.14395987 0.58110701 0.14212639]]\n",
            "shape: (10, 5)\n",
            "\n",
            "*** 重み3 ***\n",
            "[[0.32572325 0.6017988  0.70209894 0.17724217]\n",
            " [0.6436886  0.92428128 0.24228934 0.58806153]\n",
            " [0.47453451 0.68214388 0.74512834 0.05669703]\n",
            " [0.63303939 0.01685999 0.5077807  0.50364698]\n",
            " [0.05280106 0.88929981 0.10783794 0.88708746]]\n",
            "shape: (5, 4)\n",
            "\n",
            "*** バイアス1 ***\n",
            "[0.55293214 0.01527701 0.38872149 0.42821152 0.82413315 0.86748515\n",
            " 0.69607461 0.81510578 0.79101451 0.6980514 ]\n",
            "shape: (10,)\n",
            "\n",
            "*** バイアス2 ***\n",
            "[0.81010491 0.16319784 0.1632362  0.52394405 0.06084524]\n",
            "shape: (5,)\n",
            "\n",
            "*** バイアス3 ***\n",
            "[0.16511517 0.84556584 0.45475783 0.84538814]\n",
            "shape: (4,)\n",
            "\n",
            "##### 順伝播開始 #####\n",
            "*** 総入力1 ***\n",
            "[2.77799879 2.82894801 2.75335135 4.12167918 2.39749704 6.77543748\n",
            " 3.63788336 4.43810109 1.89114877 3.2593597 ]\n",
            "shape: (10,)\n",
            "\n",
            "*** 中間層出力1 ***\n",
            "[2.77799879 2.82894801 2.75335135 4.12167918 2.39749704 6.77543748\n",
            " 3.63788336 4.43810109 1.89114877 3.2593597 ]\n",
            "shape: (10,)\n",
            "\n",
            "*** 中間層出力2 ***\n",
            "[18.46584524 22.84217676 14.27368401 20.73502616 15.48065367]\n",
            "shape: (5,)\n",
            "\n",
            "*** 総入力2 ***\n",
            "[18.46584524 22.84217676 14.27368401 20.73502616 15.48065367]\n",
            "shape: (5,)\n",
            "\n",
            "*** 出力 ***\n",
            "[41.5999581  56.92412667 41.78799856 42.53602275]\n",
            "shape: (4,)\n",
            "\n",
            "出力合計: 182.84810607587218\n"
          ]
        }
      ],
      "source": [
        "# 順伝播（3層・複数ユニット）\n",
        "\n",
        "# ウェイトとバイアスを設定\n",
        "# ネートワークを作成\n",
        "def init_network():\n",
        "    print(\"##### ネットワークの初期化 #####\")\n",
        "    network = {}\n",
        "    \n",
        "    input_layer_size = 3\n",
        "    hidden_layer_size_1=10\n",
        "    hidden_layer_size_2=5\n",
        "    output_layer_size = 4\n",
        "    \n",
        "    #試してみよう\n",
        "    #_各パラメータのshapeを表示\n",
        "    #_ネットワークの初期値ランダム生成\n",
        "    network['W1'] = np.random.rand(input_layer_size, hidden_layer_size_1)\n",
        "    network['W2'] = np.random.rand(hidden_layer_size_1,hidden_layer_size_2)\n",
        "    network['W3'] = np.random.rand(hidden_layer_size_2,output_layer_size)\n",
        "\n",
        "    network['b1'] =  np.random.rand(hidden_layer_size_1)\n",
        "    network['b2'] =  np.random.rand(hidden_layer_size_2)\n",
        "    network['b3'] =  np.random.rand(output_layer_size)\n",
        "\n",
        "    print_vec(\"重み1\", network['W1'] )\n",
        "    print_vec(\"重み2\", network['W2'] )\n",
        "    print_vec(\"重み3\", network['W3'] )\n",
        "    print_vec(\"バイアス1\", network['b1'] )\n",
        "    print_vec(\"バイアス2\", network['b2'] )\n",
        "    print_vec(\"バイアス3\", network['b3'] )\n",
        "\n",
        "    return network\n",
        "\n",
        "# プロセスを作成\n",
        "# x：入力値\n",
        "def forward(network, x):\n",
        "    \n",
        "    print(\"##### 順伝播開始 #####\")\n",
        "\n",
        "    W1, W2, W3 = network['W1'], network['W2'], network['W3']\n",
        "    b1, b2, b3 = network['b1'], network['b2'], network['b3']\n",
        "    \n",
        "    # 1層の総入力\n",
        "    u1 = np.dot(x, W1) + b1\n",
        "    \n",
        "    # 1層の総出力\n",
        "    z1 = functions.relu(u1)\n",
        "    \n",
        "    # 2層の総入力\n",
        "    u2 = np.dot(z1, W2) + b2\n",
        "    \n",
        "    # 2層の総出力\n",
        "    z2 = functions.relu(u2)\n",
        "\n",
        "    # 出力層の総入力\n",
        "    u3 = np.dot(z2, W3) + b3\n",
        "    \n",
        "    # 出力層の総出力\n",
        "    y = u3\n",
        "    \n",
        "    print_vec(\"総入力1\", u1)\n",
        "    print_vec(\"中間層出力1\", z1)\n",
        "    print_vec(\"中間層出力2\", z2)\n",
        "    print_vec(\"総入力2\", u2)\n",
        "    print_vec(\"出力\", y)\n",
        "    print(\"出力合計: \" + str(np.sum(y)))\n",
        "\n",
        "    return y, z1, z2\n",
        "\n",
        "# 入力値\n",
        "x = np.array([1., 2., 4.])\n",
        "print_vec(\"入力\", x)\n",
        "\n",
        "# ネットワークの初期化\n",
        "network =  init_network()\n",
        "\n",
        "y, z1, z2 = forward(network, x)"
      ]
    },
    {
      "cell_type": "code",
      "execution_count": 7,
      "metadata": {
        "colab": {
          "base_uri": "https://localhost:8080/"
        },
        "id": "vZqIdJCyRKSt",
        "outputId": "c44714cc-9d1e-4c8f-c97f-514887502ba1"
      },
      "outputs": [
        {
          "output_type": "execute_result",
          "data": {
            "text/plain": [
              "array([[0.64409516, 0.49785031, 0.93748539],\n",
              "       [0.10417995, 0.5384957 , 0.89730781],\n",
              "       [0.27076956, 0.06029767, 0.30436226]])"
            ]
          },
          "metadata": {},
          "execution_count": 7
        }
      ],
      "source": [
        "np.random.rand(3, 3)"
      ]
    },
    {
      "cell_type": "markdown",
      "metadata": {
        "id": "Heq0n6BraRHw"
      },
      "source": [
        "# 多クラス分類（2-3-4ネットワーク）"
      ]
    },
    {
      "cell_type": "code",
      "execution_count": 8,
      "metadata": {
        "colab": {
          "base_uri": "https://localhost:8080/"
        },
        "id": "GWd-KzO6RKSv",
        "outputId": "9ff2fe93-b345-4f51-9f5f-6eefb8982ba9"
      },
      "outputs": [
        {
          "output_type": "stream",
          "name": "stdout",
          "text": [
            "##### ネットワークの初期化 #####\n",
            "*** 重み1 ***\n",
            "[[0.51978696 0.11687639 0.34124514 0.71521318 0.64324746]\n",
            " [0.4328592  0.57884755 0.97682501 0.83053407 0.39965844]\n",
            " [0.80679111 0.56336373 0.70678367 0.00772548 0.6826892 ]]\n",
            "shape: (3, 5)\n",
            "\n",
            "*** 重み2 ***\n",
            "[[0.23212567 0.4749048  0.97572042 0.44095242 0.53782792 0.35443906]\n",
            " [0.25443337 0.53906921 0.79989777 0.68968532 0.83822679 0.93308823]\n",
            " [0.25933015 0.82445557 0.8739446  0.56936297 0.5335939  0.41178459]\n",
            " [0.5912243  0.05967895 0.40353129 0.73558358 0.53360479 0.03540373]\n",
            " [0.2708349  0.56042123 0.9537205  0.73573447 0.5543341  0.34105218]]\n",
            "shape: (5, 6)\n",
            "\n",
            "*** バイアス1 ***\n",
            "[0.97093791 0.4384831  0.06540984 0.64704048 0.64608554]\n",
            "shape: (5,)\n",
            "\n",
            "*** バイアス2 ***\n",
            "[0.29554765 0.69727642 0.22855789 0.04803933 0.07563059 0.5067121 ]\n",
            "shape: (6,)\n",
            "\n",
            "##### 順伝播開始 #####\n",
            "*** 総入力1 ***\n",
            "[4.77681659 3.40314579 4.480656   3.04649824 4.13671748]\n",
            "shape: (5,)\n",
            "\n",
            "*** 中間層出力1 ***\n",
            "[4.77681659 3.40314579 4.480656   3.04649824 4.13671748]\n",
            "shape: (5,)\n",
            "\n",
            "*** 総入力2 ***\n",
            "[ 6.35374373 10.99455855 16.70203882 12.33708719 11.80694422  8.73899673]\n",
            "shape: (6,)\n",
            "\n",
            "*** 出力1 ***\n",
            "[3.12993383e-05 3.24351138e-03 9.76658219e-01 1.24184732e-02\n",
            " 7.30853005e-03 3.39967479e-04]\n",
            "shape: (6,)\n",
            "\n",
            "出力合計: 1.0\n",
            "\n",
            "##### 結果表示 #####\n",
            "*** 出力 ***\n",
            "[3.12993383e-05 3.24351138e-03 9.76658219e-01 1.24184732e-02\n",
            " 7.30853005e-03 3.39967479e-04]\n",
            "shape: (6,)\n",
            "\n",
            "*** 訓練データ ***\n",
            "[0 0 0 1 0 0]\n",
            "shape: (6,)\n",
            "\n",
            "*** 交差エントロピー誤差 ***\n",
            "4.38856208879842\n",
            "shape: ()\n",
            "\n"
          ]
        }
      ],
      "source": [
        "# 多クラス分類\n",
        "# 2-3-4ネットワーク\n",
        "\n",
        "# ！試してみよう_ノードの構成を 3-5-6 に変更してみよう\n",
        "\n",
        "# ウェイトとバイアスを設定\n",
        "# ネートワークを作成\n",
        "def init_network():\n",
        "    print(\"##### ネットワークの初期化 #####\")\n",
        "\n",
        "    #試してみよう\n",
        "    #_各パラメータのshapeを表示\n",
        "    #_ネットワークの初期値ランダム生成\n",
        "\n",
        "    network = {}\n",
        "    \n",
        "    input_layer_size = 3\n",
        "    hidden_layer_size=5\n",
        "    output_layer_size = 6\n",
        "    \n",
        "    #試してみよう\n",
        "    #_各パラメータのshapeを表示\n",
        "    #_ネットワークの初期値ランダム生成\n",
        "    network['W1'] = np.random.rand(input_layer_size, hidden_layer_size)\n",
        "    network['W2'] = np.random.rand(hidden_layer_size,output_layer_size)\n",
        "\n",
        "    network['b1'] =  np.random.rand(hidden_layer_size)\n",
        "    network['b2'] =  np.random.rand(output_layer_size)\n",
        "    \n",
        "    print_vec(\"重み1\", network['W1'] )\n",
        "    print_vec(\"重み2\", network['W2'] )\n",
        "    print_vec(\"バイアス1\", network['b1'] )\n",
        "    print_vec(\"バイアス2\", network['b2'] )\n",
        "\n",
        "    return network\n",
        "\n",
        "# プロセスを作成\n",
        "# x：入力値\n",
        "def forward(network, x):\n",
        "    \n",
        "    print(\"##### 順伝播開始 #####\")\n",
        "    W1, W2 = network['W1'], network['W2']\n",
        "    b1, b2 = network['b1'], network['b2']\n",
        "    \n",
        "    # 1層の総入力\n",
        "    u1 = np.dot(x, W1) + b1\n",
        "\n",
        "    # 1層の総出力\n",
        "    z1 = functions.relu(u1)\n",
        "\n",
        "    # 2層の総入力\n",
        "    u2 = np.dot(z1, W2) + b2\n",
        "    \n",
        "    # 出力値\n",
        "    y = functions.softmax(u2)\n",
        "    \n",
        "    print_vec(\"総入力1\", u1)\n",
        "    print_vec(\"中間層出力1\", z1)\n",
        "    print_vec(\"総入力2\", u2)\n",
        "    print_vec(\"出力1\", y)\n",
        "    print(\"出力合計: \" + str(np.sum(y)))\n",
        "        \n",
        "    return y, z1\n",
        "\n",
        "## 事前データ\n",
        "# 入力値\n",
        "x = np.array([1., 2.,  3.])\n",
        "\n",
        "# 目標出力\n",
        "d = np.array([0, 0, 0, 1, 0, 0])\n",
        "\n",
        "# ネットワークの初期化\n",
        "network =  init_network()\n",
        "\n",
        "# 出力\n",
        "y, z1 = forward(network, x)\n",
        "\n",
        "# 誤差\n",
        "loss = functions.cross_entropy_error(d, y)\n",
        "\n",
        "## 表示\n",
        "print(\"\\n##### 結果表示 #####\")\n",
        "print_vec(\"出力\", y)\n",
        "print_vec(\"訓練データ\", d)\n",
        "print_vec(\"交差エントロピー誤差\",  loss)\n",
        "\n"
      ]
    },
    {
      "cell_type": "markdown",
      "metadata": {
        "id": "afeMZXWyagkW"
      },
      "source": [
        "# 回帰（2-3-2ネットワーク）"
      ]
    },
    {
      "cell_type": "code",
      "execution_count": 9,
      "metadata": {
        "colab": {
          "base_uri": "https://localhost:8080/"
        },
        "id": "UYpHOE8mRKSx",
        "outputId": "f2aea6b9-e0c6-4616-9022-0db36586eb55"
      },
      "outputs": [
        {
          "output_type": "stream",
          "name": "stdout",
          "text": [
            "##### ネットワークの初期化 #####\n",
            "*** 重み1 ***\n",
            "[[0.91917416 0.8487474  0.02615004 0.70010697 0.43544662]\n",
            " [0.81352715 0.76131614 0.41829185 0.02956956 0.04342148]\n",
            " [0.43607768 0.52702417 0.54758272 0.93040615 0.23793699]]\n",
            "shape: (3, 5)\n",
            "\n",
            "*** 重み2 ***\n",
            "[[0.93198379 0.53008733 0.79842381 0.3511611 ]\n",
            " [0.54199477 0.34216352 0.00731416 0.19317774]\n",
            " [0.34270979 0.8965377  0.05723133 0.81697542]\n",
            " [0.75992626 0.12470021 0.64186487 0.02624471]\n",
            " [0.65910566 0.71397904 0.87607153 0.21455239]]\n",
            "shape: (5, 4)\n",
            "\n",
            "*** バイアス1 ***\n",
            "[0.17031263 0.04608033 0.93934249 0.69551445 0.24759295]\n",
            "shape: (5,)\n",
            "\n",
            "*** バイアス2 ***\n",
            "[0.3259473  0.72062475 0.56717191 0.48595119]\n",
            "shape: (4,)\n",
            "\n",
            "##### 順伝播開始 #####\n",
            "*** 総入力1 ***\n",
            "[4.02477413 3.99853254 3.44482439 4.24597898 1.48369352]\n",
            "shape: (5,)\n",
            "\n",
            "*** 中間層出力1 ***\n",
            "[4.02477413 3.99853254 3.44482439 4.24597898 1.48369352]\n",
            "shape: (5,)\n",
            "\n",
            "*** 総入力2 ***\n",
            "[11.62927201  8.89947398  8.03221157  5.91582412]\n",
            "shape: (4,)\n",
            "\n",
            "*** 出力1 ***\n",
            "[11.62927201  8.89947398  8.03221157  5.91582412]\n",
            "shape: (4,)\n",
            "\n",
            "出力合計: 34.47678167983986\n",
            "\n",
            "##### 結果表示 #####\n",
            "*** 中間層出力 ***\n",
            "[4.02477413 3.99853254 3.44482439 4.24597898 1.48369352]\n",
            "shape: (5,)\n",
            "\n",
            "*** 出力 ***\n",
            "[11.62927201  8.89947398  8.03221157  5.91582412]\n",
            "shape: (4,)\n",
            "\n",
            "*** 訓練データ ***\n",
            "[2. 4. 3. 1.]\n",
            "shape: (4,)\n",
            "\n",
            "*** 二乗誤差 ***\n",
            "20.777025593595486\n",
            "shape: ()\n",
            "\n"
          ]
        }
      ],
      "source": [
        "# 回帰\n",
        "# 2-3-2ネットワーク\n",
        "\n",
        "# ！試してみよう_ノードの構成を 3-5-4 に変更してみよう\n",
        "\n",
        "# ウェイトとバイアスを設定\n",
        "# ネートワークを作成\n",
        "def init_network():\n",
        "    print(\"##### ネットワークの初期化 #####\")\n",
        "\n",
        "    input_layer_size = 3\n",
        "    hidden_layer_size=5\n",
        "    output_layer_size = 4\n",
        "    \n",
        "    #試してみよう\n",
        "    #_各パラメータのshapeを表示\n",
        "    #_ネットワークの初期値ランダム生成\n",
        "    network['W1'] = np.random.rand(input_layer_size, hidden_layer_size)\n",
        "    network['W2'] = np.random.rand(hidden_layer_size,output_layer_size)\n",
        "\n",
        "    network['b1'] =  np.random.rand(hidden_layer_size)\n",
        "    network['b2'] =  np.random.rand(output_layer_size)\n",
        "    \n",
        "    print_vec(\"重み1\", network['W1'] )\n",
        "    print_vec(\"重み2\", network['W2'] )\n",
        "    print_vec(\"バイアス1\", network['b1'] )\n",
        "    print_vec(\"バイアス2\", network['b2'] )\n",
        "\n",
        "    return network\n",
        "\n",
        "# プロセスを作成\n",
        "def forward(network, x):\n",
        "    print(\"##### 順伝播開始 #####\")\n",
        "    \n",
        "    W1, W2 = network['W1'], network['W2']\n",
        "    b1, b2 = network['b1'], network['b2']\n",
        "    # 隠れ層の総入力\n",
        "    u1 = np.dot(x, W1) + b1\n",
        "    # 隠れ層の総出力\n",
        "    z1 = functions.relu(u1)\n",
        "    # 出力層の総入力\n",
        "    u2 = np.dot(z1, W2) + b2\n",
        "    # 出力層の総出力\n",
        "    y = u2\n",
        "    \n",
        "    print_vec(\"総入力1\", u1)\n",
        "    print_vec(\"中間層出力1\", z1)\n",
        "    print_vec(\"総入力2\", u2)\n",
        "    print_vec(\"出力1\", y)\n",
        "    print(\"出力合計: \" + str(np.sum(y)))\n",
        "    \n",
        "    return y, z1\n",
        "\n",
        "# 入力値\n",
        "x = np.array([1., 2., 3.])\n",
        "network =  init_network()\n",
        "y, z1 = forward(network, x)\n",
        "# 目標出力\n",
        "d = np.array([2., 4., 3., 1.])\n",
        "# 誤差\n",
        "loss = functions.mean_squared_error(d, y)\n",
        "\n",
        "## 表示\n",
        "print(\"\\n##### 結果表示 #####\")\n",
        "print_vec(\"中間層出力\", z1)\n",
        "print_vec(\"出力\", y)\n",
        "print_vec(\"訓練データ\", d)\n",
        "print_vec(\"二乗誤差\",  loss)\n"
      ]
    },
    {
      "cell_type": "markdown",
      "metadata": {
        "id": "uEgzNQOLbqsF"
      },
      "source": [
        "# 2値分類（2-3-1ネットワーク）"
      ]
    },
    {
      "cell_type": "code",
      "execution_count": 10,
      "metadata": {
        "colab": {
          "base_uri": "https://localhost:8080/"
        },
        "id": "a0EOcQadRKS0",
        "outputId": "f9befa5c-0322-41a6-cd4b-2ca29215e343"
      },
      "outputs": [
        {
          "output_type": "stream",
          "name": "stdout",
          "text": [
            "##### ネットワークの初期化 #####\n",
            "##### 順伝播開始 #####\n",
            "*** 総入力1 ***\n",
            "[1.66126056 4.80728892 7.46654316 1.72955792 5.05695274 7.87664746\n",
            " 2.11791923 4.27400024 7.37293097 1.77494513]\n",
            "shape: (10,)\n",
            "\n",
            "*** 中間層出力1 ***\n",
            "[1.66126056 4.80728892 7.46654316 1.72955792 5.05695274 7.87664746\n",
            " 2.11791923 4.27400024 7.37293097 1.77494513]\n",
            "shape: (10,)\n",
            "\n",
            "*** 総入力2 ***\n",
            "[21.6564245  18.14657509 27.77534847 19.23075217 12.25540115 20.12093916\n",
            " 23.96070212 20.4702519  21.32657202 22.63731999 22.10085507 26.31555171\n",
            " 18.80260296 23.96037619 23.43414028 32.63871363 23.15718816 17.57811887\n",
            " 20.6836389  26.66300521]\n",
            "shape: (20,)\n",
            "\n",
            "*** 出力1 ***\n",
            "[1.]\n",
            "shape: (1,)\n",
            "\n",
            "出力合計: 1.0\n",
            "\n",
            "##### 結果表示 #####\n",
            "*** 中間層出力 ***\n",
            "[1.66126056 4.80728892 7.46654316 1.72955792 5.05695274 7.87664746\n",
            " 2.11791923 4.27400024 7.37293097 1.77494513]\n",
            "shape: (10,)\n",
            "\n",
            "*** 出力 ***\n",
            "[1.]\n",
            "shape: (1,)\n",
            "\n",
            "*** 訓練データ ***\n",
            "[1]\n",
            "shape: (1,)\n",
            "\n",
            "*** 交差エントロピー誤差 ***\n",
            "-9.999999505838704e-08\n",
            "shape: ()\n",
            "\n"
          ]
        }
      ],
      "source": [
        "# 2値分類\n",
        "# 2-3-1ネットワーク\n",
        "\n",
        "# ！試してみよう_ノードの構成を 5-10-20-1 に変更してみよう\n",
        "\n",
        "# ウェイトとバイアスを設定\n",
        "# ネートワークを作成\n",
        "def init_network():\n",
        "    print(\"##### ネットワークの初期化 #####\")\n",
        "\n",
        "    network = {}\n",
        "    network['W1'] = np.array([\n",
        "        [0.1, 0.3, 0.5,0.1, 0.3, 0.5,0.1, 0.3, 0.5, 0.1],\n",
        "        [0.1, 0.3, 0.5,0.1, 0.3, 0.5,0.1, 0.3, 0.5, 0.1],\n",
        "        [0.1, 0.3, 0.5,0.1, 0.3, 0.5,0.1, 0.3, 0.5, 0.1],\n",
        "        [0.1, 0.3, 0.5,0.1, 0.3, 0.5,0.1, 0.3, 0.5, 0.1],\n",
        "        [0.1, 0.3, 0.5,0.1, 0.3, 0.5,0.1, 0.3, 0.5, 0.1]\n",
        "    ])\n",
        "    network['W2'] = np.random.rand(10, 20)\n",
        "    network['W3'] = np.random.rand(20, 1)\n",
        "\n",
        "    network['b1'] = np.random.rand(10)\n",
        "    network['b2'] =np.random.rand(20)\n",
        "    network['b3'] =np.random.rand(1)\n",
        "\n",
        "    return network\n",
        "\n",
        "\n",
        "# プロセスを作成\n",
        "def forward(network, x):\n",
        "    print(\"##### 順伝播開始 #####\")\n",
        "    \n",
        "    W1, W2, W3 = network['W1'], network['W2'],network['W3']\n",
        "    b1, b2, b3 = network['b1'], network['b2'],network['b3']\n",
        "\n",
        "    # 隠れ層の総入力\n",
        "    u1 = np.dot(x, W1) + b1\n",
        "    # 隠れ層1の総出力\n",
        "    z1 = functions.relu(u1)\n",
        "    # 隠れ層２層への総入力\n",
        "    u2 = np.dot(z1, W2) + b2\n",
        "    # 隠れ層2の出力\n",
        "    z2 = functions.relu(u2)\n",
        "    \n",
        "    u3 = np.dot(z2, W3) + b3\n",
        "    z3 = functions.sigmoid(u3)\n",
        "    y = z3    \n",
        "    print_vec(\"総入力1\", u1)\n",
        "    print_vec(\"中間層出力1\", z1)\n",
        "    print_vec(\"総入力2\", u2)\n",
        "    print_vec(\"出力1\", y)\n",
        "    print(\"出力合計: \" + str(np.sum(y)))\n",
        "\n",
        "    return y, z1\n",
        "\n",
        "# 入力値\n",
        "x = np.array([1., 2.,2.,4.,5.])\n",
        "\n",
        "# 目標出力\n",
        "d = np.array([1])\n",
        "network =  init_network()\n",
        "y, z1 = forward(network, x)\n",
        "# 誤差\n",
        "loss = functions.cross_entropy_error(d, y)\n",
        "\n",
        "## 表示\n",
        "print(\"\\n##### 結果表示 #####\")\n",
        "print_vec(\"中間層出力\", z1)\n",
        "print_vec(\"出力\", y)\n",
        "print_vec(\"訓練データ\", d)\n",
        "print_vec(\"交差エントロピー誤差\",  loss)"
      ]
    }
  ],
  "metadata": {
    "colab": {
      "collapsed_sections": [],
      "name": "1_1_forward_propagation_after.ipynb",
      "provenance": []
    },
    "kernelspec": {
      "display_name": "Python 3",
      "language": "python",
      "name": "python3"
    },
    "language_info": {
      "codemirror_mode": {
        "name": "ipython",
        "version": 3
      },
      "file_extension": ".py",
      "mimetype": "text/x-python",
      "name": "python",
      "nbconvert_exporter": "python",
      "pygments_lexer": "ipython3",
      "version": "3.7.3"
    }
  },
  "nbformat": 4,
  "nbformat_minor": 0
}