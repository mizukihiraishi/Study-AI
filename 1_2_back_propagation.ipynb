{
  "cells": [
    {
      "cell_type": "markdown",
      "metadata": {
        "id": "8cNl2QA_Rnv5"
      },
      "source": [
        "# 準備"
      ]
    },
    {
      "cell_type": "markdown",
      "metadata": {
        "id": "YkwjN1jNVAYy"
      },
      "source": [
        "## Googleドライブのマウント"
      ]
    },
    {
      "cell_type": "code",
      "execution_count": 1,
      "metadata": {
        "colab": {
          "base_uri": "https://localhost:8080/"
        },
        "id": "pvFXpiH3EVC1",
        "outputId": "43bdc994-f0fd-4593-8d4e-8e7faa95e30a"
      },
      "outputs": [
        {
          "output_type": "stream",
          "name": "stdout",
          "text": [
            "Mounted at /content/drive\n"
          ]
        }
      ],
      "source": [
        "from google.colab import drive\n",
        "drive.mount('/content/drive')"
      ]
    },
    {
      "cell_type": "markdown",
      "metadata": {
        "id": "3Ub7RYdeY6pK"
      },
      "source": [
        "## sys.pathの設定"
      ]
    },
    {
      "cell_type": "markdown",
      "metadata": {
        "id": "oql7L19rEsWi"
      },
      "source": [
        "以下では，Googleドライブのマイドライブ直下にDNN_codeフォルダを置くことを仮定しています．必要に応じて，パスを変更してください．"
      ]
    },
    {
      "cell_type": "code",
      "execution_count": 2,
      "metadata": {
        "id": "7Ic2JzkvFX59"
      },
      "outputs": [],
      "source": [
        "import sys\n",
        "sys.path.append('/content/drive/My Drive/DNN_code')"
      ]
    },
    {
      "cell_type": "markdown",
      "metadata": {
        "id": "k5L0AWliZYng"
      },
      "source": [
        "# importと関数定義"
      ]
    },
    {
      "cell_type": "code",
      "execution_count": 3,
      "metadata": {
        "id": "aNcuxoGogLvM"
      },
      "outputs": [],
      "source": [
        "import numpy as np\n",
        "from common import functions\n",
        "import matplotlib.pyplot as plt\n",
        "\n",
        "def print_vec(text, vec):\n",
        "    print(\"*** \" + text + \" ***\")\n",
        "    print(vec)\n",
        "    #print(\"shape: \" + str(x.shape))\n",
        "    print(\"\")\n"
      ]
    },
    {
      "cell_type": "markdown",
      "metadata": {
        "id": "uhkhpJjOgbtF"
      },
      "source": [
        "# メインプログラム"
      ]
    },
    {
      "cell_type": "code",
      "execution_count": 4,
      "metadata": {
        "colab": {
          "base_uri": "https://localhost:8080/"
        },
        "id": "Ma1nAxuegLvQ",
        "outputId": "7b56d38e-430f-43a9-8ab7-ac9de9dd7bda"
      },
      "outputs": [
        {
          "output_type": "stream",
          "name": "stdout",
          "text": [
            "##### ネットワークの初期化 #####\n",
            "*** 重み1 ***\n",
            "[[0.1 0.3 0.5]\n",
            " [0.2 0.4 0.6]]\n",
            "\n",
            "*** 重み2 ***\n",
            "[[0.1 0.4]\n",
            " [0.2 0.5]\n",
            " [0.3 0.6]]\n",
            "\n",
            "*** バイアス1 ***\n",
            "[0.1 0.2 0.3]\n",
            "\n",
            "*** バイアス2 ***\n",
            "[0.1 0.2]\n",
            "\n",
            "##### 順伝播開始 #####\n",
            "*** 総入力1 ***\n",
            "[[1.2 2.5 3.8]]\n",
            "\n",
            "*** 中間層出力1 ***\n",
            "[[1.2 2.5 3.8]]\n",
            "\n",
            "*** 総入力2 ***\n",
            "[[1.86 4.21]]\n",
            "\n",
            "*** 出力1 ***\n",
            "[[0.08706577 0.91293423]]\n",
            "\n",
            "出力合計: 1.0\n",
            "\n",
            "##### 誤差逆伝播開始 #####\n",
            "*** 偏微分_dE/du2 ***\n",
            "[[ 0.08706577 -0.08706577]]\n",
            "\n",
            "*** 偏微分_dE/du2 ***\n",
            "[[-0.02611973 -0.02611973 -0.02611973]]\n",
            "\n",
            "*** 偏微分_重み1 ***\n",
            "[[-0.02611973 -0.02611973 -0.02611973]\n",
            " [-0.13059866 -0.13059866 -0.13059866]]\n",
            "\n",
            "*** 偏微分_重み2 ***\n",
            "[[ 0.10447893 -0.10447893]\n",
            " [ 0.21766443 -0.21766443]\n",
            " [ 0.33084994 -0.33084994]]\n",
            "\n",
            "*** 偏微分_バイアス1 ***\n",
            "[-0.02611973 -0.02611973 -0.02611973]\n",
            "\n",
            "*** 偏微分_バイアス2 ***\n",
            "[ 0.08706577 -0.08706577]\n",
            "\n",
            "##### 結果表示 #####\n",
            "##### 更新後パラメータ #####\n",
            "*** 重み1 ***\n",
            "[[0.1002612  0.3002612  0.5002612 ]\n",
            " [0.20130599 0.40130599 0.60130599]]\n",
            "\n",
            "*** 重み2 ***\n",
            "[[0.09895521 0.40104479]\n",
            " [0.19782336 0.50217664]\n",
            " [0.2966915  0.6033085 ]]\n",
            "\n",
            "*** バイアス1 ***\n",
            "[0.1002612 0.2002612 0.3002612]\n",
            "\n",
            "*** バイアス2 ***\n",
            "[0.09912934 0.20087066]\n",
            "\n"
          ]
        }
      ],
      "source": [
        "# ウェイトとバイアスを設定\n",
        "# ネートワークを作成\n",
        "def init_network():\n",
        "    print(\"##### ネットワークの初期化 #####\")\n",
        "\n",
        "    network = {}\n",
        "    network['W1'] = np.array([\n",
        "        [0.1, 0.3, 0.5],\n",
        "        [0.2, 0.4, 0.6]\n",
        "    ])\n",
        "\n",
        "    network['W2'] = np.array([\n",
        "        [0.1, 0.4],\n",
        "        [0.2, 0.5],\n",
        "        [0.3, 0.6]\n",
        "    ])\n",
        "\n",
        "    network['b1'] = np.array([0.1, 0.2, 0.3])\n",
        "    network['b2'] = np.array([0.1, 0.2])\n",
        "    \n",
        "    print_vec(\"重み1\", network['W1'])\n",
        "    print_vec(\"重み2\", network['W2'])\n",
        "    print_vec(\"バイアス1\", network['b1'])\n",
        "    print_vec(\"バイアス2\", network['b2'])\n",
        "\n",
        "    return network\n",
        "\n",
        "# 順伝播\n",
        "def forward(network, x):\n",
        "    print(\"##### 順伝播開始 #####\")\n",
        "\n",
        "    W1, W2 = network['W1'], network['W2']\n",
        "    b1, b2 = network['b1'], network['b2']\n",
        "    \n",
        "    u1 = np.dot(x, W1) + b1\n",
        "    z1 = functions.relu(u1)\n",
        "    u2 = np.dot(z1, W2) + b2\n",
        "    y = functions.softmax(u2)\n",
        "    \n",
        "    print_vec(\"総入力1\", u1)\n",
        "    print_vec(\"中間層出力1\", z1)\n",
        "    print_vec(\"総入力2\", u2)\n",
        "    print_vec(\"出力1\", y)\n",
        "    print(\"出力合計: \" + str(np.sum(y)))\n",
        "\n",
        "    return y, z1\n",
        "\n",
        "# 誤差逆伝播\n",
        "def backward(x, d, z1, y):\n",
        "    print(\"\\n##### 誤差逆伝播開始 #####\")\n",
        "\n",
        "    grad = {}\n",
        "\n",
        "    W1, W2 = network['W1'], network['W2']\n",
        "    b1, b2 = network['b1'], network['b2']\n",
        "    #  出力層でのデルタ\n",
        "    delta2 = functions.d_sigmoid_with_loss(d, y)\n",
        "    #  b2の勾配\n",
        "    grad['b2'] = np.sum(delta2, axis=0)\n",
        "    #  W2の勾配\n",
        "    grad['W2'] = np.dot(z1.T, delta2)\n",
        "    #  中間層でのデルタ\n",
        "    delta1 = np.dot(delta2, W2.T) * functions.d_relu(z1)\n",
        "    # b1の勾配\n",
        "    grad['b1'] = np.sum(delta1, axis=0)\n",
        "    #  W1の勾配\n",
        "    grad['W1'] = np.dot(x.T, delta1)\n",
        "        \n",
        "    print_vec(\"偏微分_dE/du2\", delta2)\n",
        "    print_vec(\"偏微分_dE/du2\", delta1)\n",
        "\n",
        "    print_vec(\"偏微分_重み1\", grad[\"W1\"])\n",
        "    print_vec(\"偏微分_重み2\", grad[\"W2\"])\n",
        "    print_vec(\"偏微分_バイアス1\", grad[\"b1\"])\n",
        "    print_vec(\"偏微分_バイアス2\", grad[\"b2\"])\n",
        "\n",
        "    return grad\n",
        "    \n",
        "# 訓練データ\n",
        "x = np.array([[1.0, 5.0]])\n",
        "# 目標出力\n",
        "d = np.array([[0, 1]])\n",
        "#  学習率\n",
        "learning_rate = 0.01\n",
        "network =  init_network()\n",
        "y, z1 = forward(network, x)\n",
        "\n",
        "# 誤差\n",
        "loss = functions.cross_entropy_error(d, y)\n",
        "\n",
        "grad = backward(x, d, z1, y)\n",
        "for key in ('W1', 'W2', 'b1', 'b2'):\n",
        "    network[key]  -= learning_rate * grad[key]\n",
        "\n",
        "print(\"##### 結果表示 #####\")    \n",
        "\n",
        "\n",
        "print(\"##### 更新後パラメータ #####\") \n",
        "print_vec(\"重み1\", network['W1'])\n",
        "print_vec(\"重み2\", network['W2'])\n",
        "print_vec(\"バイアス1\", network['b1'])\n",
        "print_vec(\"バイアス2\", network['b2'])\n"
      ]
    }
  ],
  "metadata": {
    "colab": {
      "collapsed_sections": [],
      "name": "1_2_back_propagation.ipynb",
      "provenance": [],
      "toc_visible": true
    },
    "kernelspec": {
      "display_name": "Python 3",
      "language": "python",
      "name": "python3"
    },
    "language_info": {
      "codemirror_mode": {
        "name": "ipython",
        "version": 3
      },
      "file_extension": ".py",
      "mimetype": "text/x-python",
      "name": "python",
      "nbconvert_exporter": "python",
      "pygments_lexer": "ipython3",
      "version": "3.7.3"
    }
  },
  "nbformat": 4,
  "nbformat_minor": 0
}