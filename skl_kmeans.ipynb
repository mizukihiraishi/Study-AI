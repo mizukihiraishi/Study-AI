{
 "cells": [
  {
   "cell_type": "code",
   "execution_count": 1,
   "metadata": {
    "colab": {},
    "colab_type": "code",
    "id": "MnbK6HiwHn-u"
   },
   "outputs": [],
   "source": [
    "#https://datahexa.com/kmeans-clustering-with-wine-dataset/参考"
   ]
  },
  {
   "cell_type": "code",
   "execution_count": 2,
   "metadata": {
    "colab": {},
    "colab_type": "code",
    "id": "eDbCHqAHHn-x"
   },
   "outputs": [],
   "source": [
    "import numpy as np\n",
    "import pandas as pd\n",
    "import matplotlib.pyplot as plt\n",
    "from sklearn import cluster, preprocessing, datasets\n",
    "\n",
    "from sklearn.cluster import KMeans"
   ]
  },
  {
   "cell_type": "code",
   "execution_count": 3,
   "metadata": {
    "colab": {},
    "colab_type": "code",
    "id": "MWv4rO9pHn-0"
   },
   "outputs": [],
   "source": [
    "wine = datasets.load_wine()"
   ]
  },
  {
   "cell_type": "code",
   "execution_count": 4,
   "metadata": {
    "colab": {},
    "colab_type": "code",
    "id": "HN1qnKbKHn-2"
   },
   "outputs": [],
   "source": [
    "X = wine.data"
   ]
  },
  {
   "cell_type": "code",
   "execution_count": 5,
   "metadata": {
    "colab": {
     "base_uri": "https://localhost:8080/",
     "height": 34
    },
    "colab_type": "code",
    "executionInfo": {
     "elapsed": 1717,
     "status": "ok",
     "timestamp": 1568356476346,
     "user": {
      "displayName": "staff studyai",
      "photoUrl": "",
      "userId": "05307079282186965802"
     },
     "user_tz": -540
    },
    "id": "tU0Ns-l4Hn-3",
    "outputId": "6069fa84-0f5d-4b98-c62a-acd2fbc8d7ed"
   },
   "outputs": [
    {
     "data": {
      "text/plain": [
       "(178, 13)"
      ]
     },
     "execution_count": 5,
     "metadata": {},
     "output_type": "execute_result"
    }
   ],
   "source": [
    "X.shape"
   ]
  },
  {
   "cell_type": "code",
   "execution_count": 6,
   "metadata": {
    "colab": {},
    "colab_type": "code",
    "id": "fcyrblueHn-6"
   },
   "outputs": [],
   "source": [
    "y=wine.target"
   ]
  },
  {
   "cell_type": "code",
   "execution_count": 7,
   "metadata": {
    "colab": {
     "base_uri": "https://localhost:8080/",
     "height": 34
    },
    "colab_type": "code",
    "executionInfo": {
     "elapsed": 1707,
     "status": "ok",
     "timestamp": 1568356476348,
     "user": {
      "displayName": "staff studyai",
      "photoUrl": "",
      "userId": "05307079282186965802"
     },
     "user_tz": -540
    },
    "id": "Tb3x51uXHn-8",
    "outputId": "c0381e4e-0a08-457c-a498-703c6174e261"
   },
   "outputs": [
    {
     "data": {
      "text/plain": [
       "(178,)"
      ]
     },
     "execution_count": 7,
     "metadata": {},
     "output_type": "execute_result"
    }
   ],
   "source": [
    "y.shape"
   ]
  },
  {
   "cell_type": "code",
   "execution_count": 8,
   "metadata": {
    "colab": {
     "base_uri": "https://localhost:8080/",
     "height": 34
    },
    "colab_type": "code",
    "executionInfo": {
     "elapsed": 1699,
     "status": "ok",
     "timestamp": 1568356476348,
     "user": {
      "displayName": "staff studyai",
      "photoUrl": "",
      "userId": "05307079282186965802"
     },
     "user_tz": -540
    },
    "id": "3X_kE7e_Hn--",
    "outputId": "6dcf6ec3-226d-4fc6-8428-92589ba973b6"
   },
   "outputs": [
    {
     "data": {
      "text/plain": [
       "array(['class_0', 'class_1', 'class_2'], dtype='<U7')"
      ]
     },
     "execution_count": 8,
     "metadata": {},
     "output_type": "execute_result"
    }
   ],
   "source": [
    "wine.target_names"
   ]
  },
  {
   "cell_type": "code",
   "execution_count": 9,
   "metadata": {
    "colab": {},
    "colab_type": "code",
    "id": "dh-qD8hrHn-_"
   },
   "outputs": [],
   "source": [
    "model = KMeans(n_clusters=3)"
   ]
  },
  {
   "cell_type": "code",
   "execution_count": 10,
   "metadata": {
    "colab": {},
    "colab_type": "code",
    "id": "GfLLsG6AHn_B"
   },
   "outputs": [],
   "source": [
    "labels = model.fit_predict(X)"
   ]
  },
  {
   "cell_type": "code",
   "execution_count": 11,
   "metadata": {
    "colab": {
     "base_uri": "https://localhost:8080/",
     "height": 34
    },
    "colab_type": "code",
    "executionInfo": {
     "elapsed": 1691,
     "status": "ok",
     "timestamp": 1568356476350,
     "user": {
      "displayName": "staff studyai",
      "photoUrl": "",
      "userId": "05307079282186965802"
     },
     "user_tz": -540
    },
    "id": "ogfWZ8M1Hn_D",
    "outputId": "2fb4c2b2-744b-4b88-9c11-babb8a398674"
   },
   "outputs": [
    {
     "data": {
      "text/plain": [
       "pandas.core.frame.DataFrame"
      ]
     },
     "execution_count": 11,
     "metadata": {},
     "output_type": "execute_result"
    }
   ],
   "source": [
    "df = pd.DataFrame({'labels': labels})\n",
    "type(df)"
   ]
  },
  {
   "cell_type": "code",
   "execution_count": 12,
   "metadata": {
    "colab": {},
    "colab_type": "code",
    "id": "eAQj7KhuHn_F"
   },
   "outputs": [],
   "source": [
    "def species_label(theta):\n",
    "    if theta == 0:\n",
    "        return wine.target_names[0]\n",
    "    if theta == 1:\n",
    "        return wine.target_names[1]\n",
    "    if theta == 2:\n",
    "        return wine.target_names[2]"
   ]
  },
  {
   "cell_type": "code",
   "execution_count": 13,
   "metadata": {
    "colab": {},
    "colab_type": "code",
    "id": "bU5e1ZfKHn_G"
   },
   "outputs": [],
   "source": [
    "df['species'] = [species_label(theta) for theta in wine.target]"
   ]
  },
  {
   "cell_type": "code",
   "execution_count": 14,
   "metadata": {
    "colab": {
     "base_uri": "https://localhost:8080/",
     "height": 166
    },
    "colab_type": "code",
    "executionInfo": {
     "elapsed": 1901,
     "status": "ok",
     "timestamp": 1568356476573,
     "user": {
      "displayName": "staff studyai",
      "photoUrl": "",
      "userId": "05307079282186965802"
     },
     "user_tz": -540
    },
    "id": "Z_f4mMbKHn_I",
    "outputId": "9dcbe90b-641d-429b-d1f5-f72028fd94fd"
   },
   "outputs": [
    {
     "data": {
      "text/html": [
       "<div>\n",
       "<style scoped>\n",
       "    .dataframe tbody tr th:only-of-type {\n",
       "        vertical-align: middle;\n",
       "    }\n",
       "\n",
       "    .dataframe tbody tr th {\n",
       "        vertical-align: top;\n",
       "    }\n",
       "\n",
       "    .dataframe thead th {\n",
       "        text-align: right;\n",
       "    }\n",
       "</style>\n",
       "<table border=\"1\" class=\"dataframe\">\n",
       "  <thead>\n",
       "    <tr style=\"text-align: right;\">\n",
       "      <th>species</th>\n",
       "      <th>class_0</th>\n",
       "      <th>class_1</th>\n",
       "      <th>class_2</th>\n",
       "    </tr>\n",
       "    <tr>\n",
       "      <th>labels</th>\n",
       "      <th></th>\n",
       "      <th></th>\n",
       "      <th></th>\n",
       "    </tr>\n",
       "  </thead>\n",
       "  <tbody>\n",
       "    <tr>\n",
       "      <th>0</th>\n",
       "      <td>46</td>\n",
       "      <td>1</td>\n",
       "      <td>0</td>\n",
       "    </tr>\n",
       "    <tr>\n",
       "      <th>1</th>\n",
       "      <td>0</td>\n",
       "      <td>50</td>\n",
       "      <td>19</td>\n",
       "    </tr>\n",
       "    <tr>\n",
       "      <th>2</th>\n",
       "      <td>13</td>\n",
       "      <td>20</td>\n",
       "      <td>29</td>\n",
       "    </tr>\n",
       "  </tbody>\n",
       "</table>\n",
       "</div>"
      ],
      "text/plain": [
       "species  class_0  class_1  class_2\n",
       "labels                            \n",
       "0             46        1        0\n",
       "1              0       50       19\n",
       "2             13       20       29"
      ]
     },
     "execution_count": 14,
     "metadata": {},
     "output_type": "execute_result"
    }
   ],
   "source": [
    "pd.crosstab(df['labels'], df['species'])"
   ]
  },
  {
   "cell_type": "code",
   "execution_count": 15,
   "metadata": {},
   "outputs": [],
   "source": [
    "def distance(x1, x2):\n",
    "    return np.sum((x1 - x2)**2, axis=1)"
   ]
  },
  {
   "cell_type": "code",
   "execution_count": 21,
   "metadata": {},
   "outputs": [],
   "source": [
    "def plt_result(X_train, centers, xx, contflag):\n",
    "    #　データを可視化\n",
    "    plt.scatter(X_train[:, 0], X_train[:, 1], c=labels, cmap='spring')\n",
    "    # 中心を可視化\n",
    "    plt.scatter(centers[:, 0], centers[:, 1], s=200, marker='X', lw=2, c='black', edgecolor=\"white\")\n",
    "    # 領域の可視化\n",
    "    if(contflag):\n",
    "        pred = np.empty(len(xx), dtype=int)\n",
    "        for i, x in enumerate(xx):\n",
    "            d = distance(x, centers)\n",
    "            pred[i] = np.argmin(d)\n",
    "        plt.contourf(xx0, xx1, pred.reshape(100, 100), alpha=0.2, cmap='spring')"
   ]
  },
  {
   "cell_type": "code",
   "execution_count": 17,
   "metadata": {},
   "outputs": [
    {
     "name": "stdout",
     "output_type": "stream",
     "text": [
      "labels: [0 0 0 0 2 0 0 0 0 0 0 0 0 0 0 0 0 0 0 2 2 2 0 0 2 2 0 0 2 0 0 0 0 0 0 2 2\n",
      " 0 0 2 2 0 0 2 2 0 0 0 0 0 0 0 0 0 0 0 0 0 0 1 2 1 2 1 1 2 1 1 2 2 2 1 1 0\n",
      " 2 1 1 1 2 1 1 2 2 1 1 1 1 1 2 2 1 1 1 1 1 2 2 1 2 1 2 1 1 1 2 1 1 1 1 2 1\n",
      " 1 2 1 1 1 1 1 1 1 2 1 1 1 1 1 1 1 1 1 2 1 1 2 2 2 2 1 1 1 2 2 1 1 2 2 1 2\n",
      " 2 1 1 1 1 2 2 2 1 2 2 2 1 2 1 2 2 1 2 2 2 2 1 1 2 2 2 2 2 1]\n",
      "cluster_centers: [[1.38044681e+01 1.88340426e+00 2.42617021e+00 1.70234043e+01\n",
      "  1.05510638e+02 2.86723404e+00 3.01425532e+00 2.85319149e-01\n",
      "  1.91042553e+00 5.70255319e+00 1.07829787e+00 3.11404255e+00\n",
      "  1.19514894e+03]\n",
      " [1.25166667e+01 2.49420290e+00 2.28855072e+00 2.08231884e+01\n",
      "  9.23478261e+01 2.07072464e+00 1.75840580e+00 3.90144928e-01\n",
      "  1.45188406e+00 4.08695651e+00 9.41159420e-01 2.49072464e+00\n",
      "  4.58231884e+02]\n",
      " [1.29298387e+01 2.50403226e+00 2.40806452e+00 1.98903226e+01\n",
      "  1.03596774e+02 2.11112903e+00 1.58403226e+00 3.88387097e-01\n",
      "  1.50338710e+00 5.65032258e+00 8.83967742e-01 2.36548387e+00\n",
      "  7.28338710e+02]]\n"
     ]
    },
    {
     "data": {
      "text/plain": [
       "array([[1.38044681e+01, 1.88340426e+00, 2.42617021e+00, 1.70234043e+01,\n",
       "        1.05510638e+02, 2.86723404e+00, 3.01425532e+00, 2.85319149e-01,\n",
       "        1.91042553e+00, 5.70255319e+00, 1.07829787e+00, 3.11404255e+00,\n",
       "        1.19514894e+03],\n",
       "       [1.25166667e+01, 2.49420290e+00, 2.28855072e+00, 2.08231884e+01,\n",
       "        9.23478261e+01, 2.07072464e+00, 1.75840580e+00, 3.90144928e-01,\n",
       "        1.45188406e+00, 4.08695651e+00, 9.41159420e-01, 2.49072464e+00,\n",
       "        4.58231884e+02],\n",
       "       [1.29298387e+01, 2.50403226e+00, 2.40806452e+00, 1.98903226e+01,\n",
       "        1.03596774e+02, 2.11112903e+00, 1.58403226e+00, 3.88387097e-01,\n",
       "        1.50338710e+00, 5.65032258e+00, 8.83967742e-01, 2.36548387e+00,\n",
       "        7.28338710e+02]])"
      ]
     },
     "execution_count": 17,
     "metadata": {},
     "output_type": "execute_result"
    }
   ],
   "source": [
    "print(\"labels: {}\".format(model.labels_))\n",
    "print(\"cluster_centers: {}\".format(model.cluster_centers_))\n",
    "model.cluster_centers_"
   ]
  },
  {
   "cell_type": "code",
   "execution_count": 22,
   "metadata": {},
   "outputs": [
    {
     "data": {
      "image/png": "[encoded data removed]",
      "text/plain": [
       "<Figure size 432x288 with 1 Axes>"
      ]
     },
     "metadata": {
      "needs_background": "light"
     },
     "output_type": "display_data"
    }
   ],
   "source": [
    "xx0, xx1 = np.meshgrid(np.linspace(11, 15, 100), np.linspace(0, 6, 100))\n",
    "xx = np.array([xx0, xx1]).reshape(2, -1).T\n",
    "plt_result(X, model.cluster_centers_[:,:2], xx, True)"
   ]
  },
  {
   "cell_type": "code",
   "execution_count": 23,
   "metadata": {},
   "outputs": [
    {
     "data": {
      "image/png": "[encoded data removed]",
      "text/plain": [
       "<Figure size 432x288 with 1 Axes>"
      ]
     },
     "metadata": {
      "needs_background": "light"
     },
     "output_type": "display_data"
    }
   ],
   "source": [
    "plt_result(X, model.cluster_centers_[:,:2], xx, False)"
   ]
  }
 ],
 "metadata": {
  "accelerator": "GPU",
  "colab": {
   "collapsed_sections": [],
   "name": "skl_kmeans.ipynb",
   "provenance": [],
   "version": "0.3.2"
  },
  "kernelspec": {
   "display_name": "Python 3",
   "language": "python",
   "name": "python3"
  },
  "language_info": {
   "codemirror_mode": {
    "name": "ipython",
    "version": 3
   },
   "file_extension": ".py",
   "mimetype": "text/x-python",
   "name": "python",
   "nbconvert_exporter": "python",
   "pygments_lexer": "ipython3",
   "version": "3.7.3"
  }
 },
 "nbformat": 4,
 "nbformat_minor": 1
}
