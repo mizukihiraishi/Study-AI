{
  "nbformat": 4,
  "nbformat_minor": 0,
  "metadata": {
    "kernelspec": {
      "display_name": "Python 3",
      "language": "python",
      "name": "python3"
    },
    "language_info": {
      "codemirror_mode": {
        "name": "ipython",
        "version": 3
      },
      "file_extension": ".py",
      "mimetype": "text/x-python",
      "name": "python",
      "nbconvert_exporter": "python",
      "pygments_lexer": "ipython3",
      "version": "3.6.3"
    },
    "colab": {
      "name": "2_1_network_modified.ipynb",
      "provenance": [],
      "collapsed_sections": [],
      "toc_visible": true
    }
  },
  "cells": [
    {
      "cell_type": "markdown",
      "metadata": {
        "id": "8cNl2QA_Rnv5"
      },
      "source": [
        "# 準備"
      ]
    },
    {
      "cell_type": "markdown",
      "metadata": {
        "id": "YkwjN1jNVAYy"
      },
      "source": [
        "## Googleドライブのマウント"
      ]
    },
    {
      "cell_type": "code",
      "metadata": {
        "id": "pvFXpiH3EVC1",
        "colab": {
          "base_uri": "https://localhost:8080/"
        },
        "outputId": "3267cade-16e4-4b03-936f-bfdae1ce48b3"
      },
      "source": [
        "from google.colab import drive\n",
        "drive.mount('/content/drive')"
      ],
      "execution_count": 1,
      "outputs": [
        {
          "output_type": "stream",
          "name": "stdout",
          "text": [
            "Mounted at /content/drive\n"
          ]
        }
      ]
    },
    {
      "cell_type": "markdown",
      "metadata": {
        "id": "3Ub7RYdeY6pK"
      },
      "source": [
        "## sys.pathの設定"
      ]
    },
    {
      "cell_type": "markdown",
      "metadata": {
        "id": "oql7L19rEsWi"
      },
      "source": [
        "以下では，Googleドライブのマイドライブ直下にDNN_codeフォルダを置くことを仮定しています．必要に応じて，パスを変更してください．"
      ]
    },
    {
      "cell_type": "code",
      "metadata": {
        "id": "7Ic2JzkvFX59"
      },
      "source": [
        "import sys\n",
        "sys.path.append('/content/drive/My Drive/DNN_code')"
      ],
      "execution_count": 2,
      "outputs": []
    },
    {
      "cell_type": "markdown",
      "metadata": {
        "id": "nbefx3-XfBdG"
      },
      "source": [
        "# network modified"
      ]
    },
    {
      "cell_type": "markdown",
      "metadata": {
        "id": "kz_WkIp7fBdI"
      },
      "source": [
        "## layers"
      ]
    },
    {
      "cell_type": "code",
      "metadata": {
        "id": "N0Ys-3jbfBdJ"
      },
      "source": [
        "import numpy as np\n",
        "from common import layers\n",
        "from collections import OrderedDict\n",
        "from common import functions\n",
        "from data.mnist import load_mnist\n",
        "import matplotlib.pyplot as plt\n",
        "\n",
        "\n",
        "# ReLU layer\n",
        "class Relu:\n",
        "    def __init__(self):\n",
        "        self.mask = None\n",
        "\n",
        "    def forward(self, x):\n",
        "        # mask.shape = x.shape\n",
        "        # True or Falseを要素として持つ\n",
        "        self.mask = (x <= 0)\n",
        "        out = x.copy()\n",
        "        # Trueの箇所を0にする\n",
        "        out[self.mask] = 0\n",
        "\n",
        "        return out\n",
        "\n",
        "    def backward(self, dout):\n",
        "        # Trueの箇所を0にする\n",
        "        dout[self.mask] = 0\n",
        "        dx = dout\n",
        "\n",
        "        return dx\n",
        "    \n",
        "# Affine layer(全結合 layer)\n",
        "class Affine:\n",
        "    \n",
        "    def __init__(self, W, b):\n",
        "        self.W =W\n",
        "        self.b = b\n",
        "        \n",
        "        self.x = None\n",
        "        self.original_x_shape = None\n",
        "        # 重み・バイアスパラメータの微分\n",
        "        self.dW = None\n",
        "        self.db = None\n",
        "\n",
        "    def forward(self, x):\n",
        "        out = np.dot(self.x, self.W) + self.b\n",
        "        \n",
        "        return out\n",
        "\n",
        "    def backward(self, dout):\n",
        "        dx = np.dot(dout, self.W.T)\n",
        "        self.dW = np.dot(self.x.T, dout)\n",
        "        self.db = np.sum(dout, axis=0)\n",
        "\n",
        "        return dx\n"
      ],
      "execution_count": 3,
      "outputs": []
    },
    {
      "cell_type": "markdown",
      "metadata": {
        "id": "yuoKoWYRfBdM"
      },
      "source": [
        "## two layer network class"
      ]
    },
    {
      "cell_type": "code",
      "metadata": {
        "id": "pfwidLypfBdN"
      },
      "source": [
        "class TwoLayerNet:\n",
        "    '''\n",
        "    input_size: 入力層のノード数\n",
        "    hidden_size: 隠れ層のノード数\n",
        "    output_size: 出力層のノード数\n",
        "    weight_init_std: 重みの初期化方法\n",
        "    '''\n",
        "    def __init__(self, input_size, hidden_size, output_size, weight_init_std = 0.01):\n",
        "        # 重みの初期化\n",
        "        self.params = {}\n",
        "        self.params['W1'] = weight_init_std * np.random.randn(input_size, hidden_size)\n",
        "        self.params['W2'] = weight_init_std * np.random.randn(hidden_size, output_size)\n",
        "        self.params['b1'] = np.zeros(hidden_size)\n",
        "        self.params['b2'] = np.zeros(output_size)\n",
        "\n",
        "        # レイヤの生成\n",
        "        self.layers = OrderedDict()\n",
        "        self.layers['Affine1'] = layers.Affine(self.params['W1'], self.params['b1'])\n",
        "        self.layers['Relu1'] = layers.Relu()\n",
        "        self.layers['Affine2'] = layers.Affine(self.params['W2'], self.params['b2'])\n",
        "        \n",
        "        self.lastLayer = layers.SoftmaxWithLoss()\n",
        "        \n",
        "    # 順伝播\n",
        "    def predict(self, x):\n",
        "        for layer in self.layers.values():\n",
        "            x = layer.forward(x)\n",
        "        \n",
        "        return x\n",
        "        \n",
        "    # 誤差\n",
        "    def loss(self, x, d):\n",
        "        y = self.predict(x)\n",
        "        return self.lastLayer.forward(y, d)\n",
        "    \n",
        "    # 精度\n",
        "    def accuracy(self, x, d):\n",
        "        y = self.predict(x)\n",
        "        y = np.argmax(y, axis=1)\n",
        "        if d.ndim != 1 : d = np.argmax(d, axis=1)\n",
        "        \n",
        "        accuracy = np.sum(y == d) / float(x.shape[0])\n",
        "        return accuracy\n",
        "             \n",
        "    # 勾配\n",
        "    def gradient(self, x, d):\n",
        "        # forward\n",
        "\n",
        "        self.loss(x, d)\n",
        "\n",
        "        # backward\n",
        "        dout = 1\n",
        "        dout = self.lastLayer.backward(dout)\n",
        "\n",
        "        layers = list(self.layers.values())\n",
        "        layers.reverse()\n",
        "        for layer in layers:\n",
        "            dout = layer.backward(dout)\n",
        "\n",
        "        # 設定\n",
        "        grad = {}\n",
        "        grad['W1'], grad['b1'] = self.layers['Affine1'].dW, self.layers['Affine1'].db\n",
        "        grad['W2'], grad['b2'] = self.layers['Affine2'].dW, self.layers['Affine2'].db\n",
        "\n",
        "        return grad\n"
      ],
      "execution_count": 4,
      "outputs": []
    },
    {
      "cell_type": "markdown",
      "metadata": {
        "id": "NdQWNAZufBdQ"
      },
      "source": [
        "## 1_4_1_mnist_sample modified"
      ]
    },
    {
      "cell_type": "code",
      "metadata": {
        "id": "uQNVEwd6fBdQ",
        "colab": {
          "base_uri": "https://localhost:8080/",
          "height": 1000
        },
        "outputId": "b53d321e-9092-46fc-b0e0-0e7319a44e2b"
      },
      "source": [
        "# データの読み込み\n",
        "(x_train, d_train), (x_test, d_test) = load_mnist(normalize=True, one_hot_label=True)\n",
        "\n",
        "print(\"データ読み込み完了\")\n",
        "\n",
        "network = TwoLayerNet(input_size=784, hidden_size=40, output_size=10)\n",
        "\n",
        "iters_num = 1000\n",
        "train_size = x_train.shape[0]\n",
        "batch_size = 100\n",
        "learning_rate = 0.1\n",
        "\n",
        "train_loss_list = []\n",
        "accuracies_train = []\n",
        "accuracies_test = []\n",
        "\n",
        "plot_interval=10\n",
        "\n",
        "for i in range(iters_num):\n",
        "    batch_mask = np.random.choice(train_size, batch_size)\n",
        "    x_batch = x_train[batch_mask]\n",
        "    d_batch = d_train[batch_mask]\n",
        "\n",
        "    # 勾配\n",
        "    grad = network.gradient(x_batch, d_batch)\n",
        "    \n",
        "    for key in ('W1', 'W2', 'b1', 'b2'):\n",
        "        network.params[key] -= learning_rate * grad[key]\n",
        "    \n",
        "    loss = network.loss(x_batch, d_batch)\n",
        "    train_loss_list.append(loss)\n",
        "    \n",
        "    if (i + 1) % plot_interval == 0:\n",
        "        accr_test = network.accuracy(x_test, d_test)\n",
        "        accuracies_test.append(accr_test)        \n",
        "        accr_train = network.accuracy(x_batch, d_batch)\n",
        "        accuracies_train.append(accr_train)\n",
        "\n",
        "        print('Generation: ' + str(i+1) + '. 正答率(トレーニング) = ' + str(accr_train))\n",
        "        print('                : ' + str(i+1) + '. 正答率(テスト) = ' + str(accr_test))\n",
        "        \n",
        "\n",
        "lists = range(0, iters_num, plot_interval)\n",
        "plt.plot(lists, accuracies_train, label=\"training set\")\n",
        "plt.plot(lists, accuracies_test,  label=\"test set\")\n",
        "plt.legend(loc=\"lower right\")\n",
        "plt.title(\"accuracy\")\n",
        "plt.xlabel(\"count\")\n",
        "plt.ylabel(\"accuracy\")\n",
        "plt.ylim(0, 1.0)\n",
        "# グラフの表示\n",
        "plt.show()"
      ],
      "execution_count": 5,
      "outputs": [
        {
          "output_type": "stream",
          "name": "stdout",
          "text": [
            "データ読み込み完了\n",
            "Generation: 10. 正答率(トレーニング) = 0.13\n",
            "                : 10. 正答率(テスト) = 0.1033\n",
            "Generation: 20. 正答率(トレーニング) = 0.18\n",
            "                : 20. 正答率(テスト) = 0.1812\n",
            "Generation: 30. 正答率(トレーニング) = 0.31\n",
            "                : 30. 正答率(テスト) = 0.2575\n",
            "Generation: 40. 正答率(トレーニング) = 0.35\n",
            "                : 40. 正答率(テスト) = 0.3641\n",
            "Generation: 50. 正答率(トレーニング) = 0.48\n",
            "                : 50. 正答率(テスト) = 0.5041\n",
            "Generation: 60. 正答率(トレーニング) = 0.62\n",
            "                : 60. 正答率(テスト) = 0.5541\n",
            "Generation: 70. 正答率(トレーニング) = 0.47\n",
            "                : 70. 正答率(テスト) = 0.4425\n",
            "Generation: 80. 正答率(トレーニング) = 0.51\n",
            "                : 80. 正答率(テスト) = 0.5363\n",
            "Generation: 90. 正答率(トレーニング) = 0.67\n",
            "                : 90. 正答率(テスト) = 0.6485\n",
            "Generation: 100. 正答率(トレーニング) = 0.75\n",
            "                : 100. 正答率(テスト) = 0.6849\n",
            "Generation: 110. 正答率(トレーニング) = 0.76\n",
            "                : 110. 正答率(テスト) = 0.7288\n",
            "Generation: 120. 正答率(トレーニング) = 0.77\n",
            "                : 120. 正答率(テスト) = 0.7668\n",
            "Generation: 130. 正答率(トレーニング) = 0.81\n",
            "                : 130. 正答率(テスト) = 0.7875\n",
            "Generation: 140. 正答率(トレーニング) = 0.76\n",
            "                : 140. 正答率(テスト) = 0.7885\n",
            "Generation: 150. 正答率(トレーニング) = 0.87\n",
            "                : 150. 正答率(テスト) = 0.7879\n",
            "Generation: 160. 正答率(トレーニング) = 0.87\n",
            "                : 160. 正答率(テスト) = 0.8062\n",
            "Generation: 170. 正答率(トレーニング) = 0.77\n",
            "                : 170. 正答率(テスト) = 0.8324\n",
            "Generation: 180. 正答率(トレーニング) = 0.84\n",
            "                : 180. 正答率(テスト) = 0.8412\n",
            "Generation: 190. 正答率(トレーニング) = 0.86\n",
            "                : 190. 正答率(テスト) = 0.8362\n",
            "Generation: 200. 正答率(トレーニング) = 0.85\n",
            "                : 200. 正答率(テスト) = 0.8445\n",
            "Generation: 210. 正答率(トレーニング) = 0.89\n",
            "                : 210. 正答率(テスト) = 0.8562\n",
            "Generation: 220. 正答率(トレーニング) = 0.87\n",
            "                : 220. 正答率(テスト) = 0.8615\n",
            "Generation: 230. 正答率(トレーニング) = 0.88\n",
            "                : 230. 正答率(テスト) = 0.8657\n",
            "Generation: 240. 正答率(トレーニング) = 0.82\n",
            "                : 240. 正答率(テスト) = 0.8697\n",
            "Generation: 250. 正答率(トレーニング) = 0.89\n",
            "                : 250. 正答率(テスト) = 0.8745\n",
            "Generation: 260. 正答率(トレーニング) = 0.9\n",
            "                : 260. 正答率(テスト) = 0.8758\n",
            "Generation: 270. 正答率(トレーニング) = 0.89\n",
            "                : 270. 正答率(テスト) = 0.8731\n",
            "Generation: 280. 正答率(トレーニング) = 0.82\n",
            "                : 280. 正答率(テスト) = 0.8808\n",
            "Generation: 290. 正答率(トレーニング) = 0.9\n",
            "                : 290. 正答率(テスト) = 0.8826\n",
            "Generation: 300. 正答率(トレーニング) = 0.93\n",
            "                : 300. 正答率(テスト) = 0.8825\n",
            "Generation: 310. 正答率(トレーニング) = 0.89\n",
            "                : 310. 正答率(テスト) = 0.8793\n",
            "Generation: 320. 正答率(トレーニング) = 0.96\n",
            "                : 320. 正答率(テスト) = 0.8872\n",
            "Generation: 330. 正答率(トレーニング) = 0.89\n",
            "                : 330. 正答率(テスト) = 0.885\n",
            "Generation: 340. 正答率(トレーニング) = 0.87\n",
            "                : 340. 正答率(テスト) = 0.8887\n",
            "Generation: 350. 正答率(トレーニング) = 0.9\n",
            "                : 350. 正答率(テスト) = 0.892\n",
            "Generation: 360. 正答率(トレーニング) = 0.93\n",
            "                : 360. 正答率(テスト) = 0.8903\n",
            "Generation: 370. 正答率(トレーニング) = 0.89\n",
            "                : 370. 正答率(テスト) = 0.8905\n",
            "Generation: 380. 正答率(トレーニング) = 0.91\n",
            "                : 380. 正答率(テスト) = 0.8898\n",
            "Generation: 390. 正答率(トレーニング) = 0.92\n",
            "                : 390. 正答率(テスト) = 0.8911\n",
            "Generation: 400. 正答率(トレーニング) = 0.94\n",
            "                : 400. 正答率(テスト) = 0.8929\n",
            "Generation: 410. 正答率(トレーニング) = 0.93\n",
            "                : 410. 正答率(テスト) = 0.8936\n",
            "Generation: 420. 正答率(トレーニング) = 0.94\n",
            "                : 420. 正答率(テスト) = 0.8966\n",
            "Generation: 430. 正答率(トレーニング) = 0.93\n",
            "                : 430. 正答率(テスト) = 0.892\n",
            "Generation: 440. 正答率(トレーニング) = 0.86\n",
            "                : 440. 正答率(テスト) = 0.8994\n",
            "Generation: 450. 正答率(トレーニング) = 0.88\n",
            "                : 450. 正答率(テスト) = 0.8972\n",
            "Generation: 460. 正答率(トレーニング) = 0.89\n",
            "                : 460. 正答率(テスト) = 0.8982\n",
            "Generation: 470. 正答率(トレーニング) = 0.89\n",
            "                : 470. 正答率(テスト) = 0.9001\n",
            "Generation: 480. 正答率(トレーニング) = 0.89\n",
            "                : 480. 正答率(テスト) = 0.9041\n",
            "Generation: 490. 正答率(トレーニング) = 0.86\n",
            "                : 490. 正答率(テスト) = 0.9004\n",
            "Generation: 500. 正答率(トレーニング) = 0.92\n",
            "                : 500. 正答率(テスト) = 0.9027\n",
            "Generation: 510. 正答率(トレーニング) = 0.94\n",
            "                : 510. 正答率(テスト) = 0.9039\n",
            "Generation: 520. 正答率(トレーニング) = 0.96\n",
            "                : 520. 正答率(テスト) = 0.9022\n",
            "Generation: 530. 正答率(トレーニング) = 0.88\n",
            "                : 530. 正答率(テスト) = 0.9046\n",
            "Generation: 540. 正答率(トレーニング) = 0.95\n",
            "                : 540. 正答率(テスト) = 0.903\n",
            "Generation: 550. 正答率(トレーニング) = 0.91\n",
            "                : 550. 正答率(テスト) = 0.9027\n",
            "Generation: 560. 正答率(トレーニング) = 0.9\n",
            "                : 560. 正答率(テスト) = 0.9048\n",
            "Generation: 570. 正答率(トレーニング) = 0.93\n",
            "                : 570. 正答率(テスト) = 0.9064\n",
            "Generation: 580. 正答率(トレーニング) = 0.86\n",
            "                : 580. 正答率(テスト) = 0.9018\n",
            "Generation: 590. 正答率(トレーニング) = 0.88\n",
            "                : 590. 正答率(テスト) = 0.905\n",
            "Generation: 600. 正答率(トレーニング) = 0.96\n",
            "                : 600. 正答率(テスト) = 0.9045\n",
            "Generation: 610. 正答率(トレーニング) = 0.88\n",
            "                : 610. 正答率(テスト) = 0.907\n",
            "Generation: 620. 正答率(トレーニング) = 0.9\n",
            "                : 620. 正答率(テスト) = 0.91\n",
            "Generation: 630. 正答率(トレーニング) = 0.95\n",
            "                : 630. 正答率(テスト) = 0.9072\n",
            "Generation: 640. 正答率(トレーニング) = 0.94\n",
            "                : 640. 正答率(テスト) = 0.9062\n",
            "Generation: 650. 正答率(トレーニング) = 0.9\n",
            "                : 650. 正答率(テスト) = 0.9083\n",
            "Generation: 660. 正答率(トレーニング) = 0.91\n",
            "                : 660. 正答率(テスト) = 0.9079\n",
            "Generation: 670. 正答率(トレーニング) = 0.91\n",
            "                : 670. 正答率(テスト) = 0.9082\n",
            "Generation: 680. 正答率(トレーニング) = 0.89\n",
            "                : 680. 正答率(テスト) = 0.9097\n",
            "Generation: 690. 正答率(トレーニング) = 0.89\n",
            "                : 690. 正答率(テスト) = 0.9075\n",
            "Generation: 700. 正答率(トレーニング) = 0.96\n",
            "                : 700. 正答率(テスト) = 0.9068\n",
            "Generation: 710. 正答率(トレーニング) = 0.92\n",
            "                : 710. 正答率(テスト) = 0.9078\n",
            "Generation: 720. 正答率(トレーニング) = 0.9\n",
            "                : 720. 正答率(テスト) = 0.911\n",
            "Generation: 730. 正答率(トレーニング) = 1.0\n",
            "                : 730. 正答率(テスト) = 0.9116\n",
            "Generation: 740. 正答率(トレーニング) = 0.94\n",
            "                : 740. 正答率(テスト) = 0.9138\n",
            "Generation: 750. 正答率(トレーニング) = 0.9\n",
            "                : 750. 正答率(テスト) = 0.9132\n",
            "Generation: 760. 正答率(トレーニング) = 0.91\n",
            "                : 760. 正答率(テスト) = 0.9132\n",
            "Generation: 770. 正答率(トレーニング) = 0.92\n",
            "                : 770. 正答率(テスト) = 0.912\n",
            "Generation: 780. 正答率(トレーニング) = 0.91\n",
            "                : 780. 正答率(テスト) = 0.9123\n",
            "Generation: 790. 正答率(トレーニング) = 0.91\n",
            "                : 790. 正答率(テスト) = 0.913\n",
            "Generation: 800. 正答率(トレーニング) = 0.9\n",
            "                : 800. 正答率(テスト) = 0.9108\n",
            "Generation: 810. 正答率(トレーニング) = 0.94\n",
            "                : 810. 正答率(テスト) = 0.9151\n",
            "Generation: 820. 正答率(トレーニング) = 0.93\n",
            "                : 820. 正答率(テスト) = 0.9135\n",
            "Generation: 830. 正答率(トレーニング) = 0.92\n",
            "                : 830. 正答率(テスト) = 0.9124\n",
            "Generation: 840. 正答率(トレーニング) = 0.92\n",
            "                : 840. 正答率(テスト) = 0.9144\n",
            "Generation: 850. 正答率(トレーニング) = 0.96\n",
            "                : 850. 正答率(テスト) = 0.915\n",
            "Generation: 860. 正答率(トレーニング) = 0.94\n",
            "                : 860. 正答率(テスト) = 0.9142\n",
            "Generation: 870. 正答率(トレーニング) = 0.93\n",
            "                : 870. 正答率(テスト) = 0.9148\n",
            "Generation: 880. 正答率(トレーニング) = 0.95\n",
            "                : 880. 正答率(テスト) = 0.914\n",
            "Generation: 890. 正答率(トレーニング) = 0.89\n",
            "                : 890. 正答率(テスト) = 0.9148\n",
            "Generation: 900. 正答率(トレーニング) = 0.94\n",
            "                : 900. 正答率(テスト) = 0.9148\n",
            "Generation: 910. 正答率(トレーニング) = 0.96\n",
            "                : 910. 正答率(テスト) = 0.9186\n",
            "Generation: 920. 正答率(トレーニング) = 0.97\n",
            "                : 920. 正答率(テスト) = 0.9178\n",
            "Generation: 930. 正答率(トレーニング) = 0.91\n",
            "                : 930. 正答率(テスト) = 0.9179\n",
            "Generation: 940. 正答率(トレーニング) = 0.98\n",
            "                : 940. 正答率(テスト) = 0.9164\n",
            "Generation: 950. 正答率(トレーニング) = 0.96\n",
            "                : 950. 正答率(テスト) = 0.9157\n",
            "Generation: 960. 正答率(トレーニング) = 0.96\n",
            "                : 960. 正答率(テスト) = 0.9181\n",
            "Generation: 970. 正答率(トレーニング) = 0.93\n",
            "                : 970. 正答率(テスト) = 0.9167\n",
            "Generation: 980. 正答率(トレーニング) = 0.9\n",
            "                : 980. 正答率(テスト) = 0.9177\n",
            "Generation: 990. 正答率(トレーニング) = 0.92\n",
            "                : 990. 正答率(テスト) = 0.9198\n",
            "Generation: 1000. 正答率(トレーニング) = 0.93\n",
            "                : 1000. 正答率(テスト) = 0.9168\n"
          ]
        },
        {
          "output_type": "display_data",
          "data": {
            "image/png": "[encoded data removed]",
            "text/plain": [
              "<Figure size 432x288 with 1 Axes>"
            ]
          },
          "metadata": {
            "needs_background": "light"
          }
        }
      ]
    }
  ]
}