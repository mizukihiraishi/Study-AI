{
  "nbformat": 4,
  "nbformat_minor": 0,
  "metadata": {
    "kernelspec": {
      "name": "python3",
      "display_name": "Python 3"
    },
    "language_info": {
      "codemirror_mode": {
        "name": "ipython",
        "version": 3
      },
      "file_extension": ".py",
      "mimetype": "text/x-python",
      "name": "python",
      "nbconvert_exporter": "python",
      "pygments_lexer": "ipython3",
      "version": "3.6.3"
    },
    "colab": {
      "name": "2_6_simple_convolution_network_after.ipynb",
      "provenance": [],
      "collapsed_sections": [],
      "toc_visible": true
    },
    "accelerator": "GPU"
  },
  "cells": [
    {
      "cell_type": "markdown",
      "metadata": {
        "id": "8cNl2QA_Rnv5"
      },
      "source": [
        "# 準備"
      ]
    },
    {
      "cell_type": "markdown",
      "metadata": {
        "id": "YkwjN1jNVAYy"
      },
      "source": [
        "## Googleドライブのマウント"
      ]
    },
    {
      "cell_type": "code",
      "metadata": {
        "id": "pvFXpiH3EVC1",
        "outputId": "0021436c-ab44-4793-c1a4-f32c268c9d8f",
        "colab": {
          "base_uri": "https://localhost:8080/"
        }
      },
      "source": [
        "from google.colab import drive\n",
        "drive.mount('/content/drive')"
      ],
      "execution_count": 2,
      "outputs": [
        {
          "output_type": "stream",
          "name": "stdout",
          "text": [
            "Mounted at /content/drive\n"
          ]
        }
      ]
    },
    {
      "cell_type": "markdown",
      "metadata": {
        "id": "3Ub7RYdeY6pK"
      },
      "source": [
        "## sys.pathの設定"
      ]
    },
    {
      "cell_type": "markdown",
      "metadata": {
        "id": "oql7L19rEsWi"
      },
      "source": [
        "以下では，Googleドライブのマイドライブ直下にDNN_codeフォルダを置くことを仮定しています．必要に応じて，パスを変更してください．"
      ]
    },
    {
      "cell_type": "code",
      "metadata": {
        "id": "7Ic2JzkvFX59"
      },
      "source": [
        "import sys\n",
        "sys.path.append('/content/drive/My Drive/DNN_code')"
      ],
      "execution_count": 3,
      "outputs": []
    },
    {
      "cell_type": "markdown",
      "metadata": {
        "id": "pLzd0C0eqyF5"
      },
      "source": [
        "# simple convolution network"
      ]
    },
    {
      "cell_type": "markdown",
      "metadata": {
        "id": "P42cqedsqyF6"
      },
      "source": [
        "## image to column"
      ]
    },
    {
      "cell_type": "code",
      "metadata": {
        "id": "goQlh8SEqyF7"
      },
      "source": [
        "import pickle\n",
        "import numpy as np\n",
        "from collections import OrderedDict\n",
        "from common import layers\n",
        "from common import optimizer\n",
        "from data.mnist import load_mnist\n",
        "import matplotlib.pyplot as plt\n",
        "\n",
        "# 画像データを２次元配列に変換\n",
        "'''\n",
        "input_data: 入力値\n",
        "filter_h: フィルターの高さ\n",
        "filter_w: フィルターの横幅\n",
        "stride: ストライド\n",
        "pad: パディング\n",
        "'''\n",
        "def im2col(input_data, filter_h, filter_w, stride=1, pad=0):\n",
        "    # N: number, C: channel, H: height, W: width\n",
        "    N, C, H, W = input_data.shape\n",
        "    # 切り捨て除算\n",
        "    out_h = (H + 2 * pad - filter_h)//stride + 1\n",
        "    out_w = (W + 2 * pad - filter_w)//stride + 1\n",
        "\n",
        "    img = np.pad(input_data, [(0,0), (0,0), (pad, pad), (pad, pad)], 'constant')\n",
        "    col = np.zeros((N, C, filter_h, filter_w, out_h, out_w))\n",
        "\n",
        "    for y in range(filter_h):\n",
        "        y_max = y + stride * out_h\n",
        "        for x in range(filter_w):\n",
        "            x_max = x + stride * out_w\n",
        "            col[:, :, y, x, :, :] = img[:, :, y:y_max:stride, x:x_max:stride]\n",
        "\n",
        "    col = col.transpose(0, 4, 5, 1, 2, 3) # (N, C, filter_h, filter_w, out_h, out_w) -> (N, filter_w, out_h, out_w, C, filter_h)    \n",
        "    \n",
        "    col = col.reshape(N * out_h * out_w, -1)\n",
        "    return col"
      ],
      "execution_count": 7,
      "outputs": []
    },
    {
      "cell_type": "markdown",
      "metadata": {
        "id": "IN-wYqIkqyF_"
      },
      "source": [
        "----------------------------------------------------------------------------------------------------------------------------------------------------------------------------\n",
        "## [try] im2colの処理を確認しよう\n",
        "・関数内でtransposeの処理をしている行をコメントアウトして下のコードを実行してみよう<br>\n",
        "・input_dataの各次元のサイズやフィルターサイズ・ストライド・パディングを変えてみよう\n",
        "\n",
        "----------------------------------------------------------------------------------------------------------------------------------------------------------------------------"
      ]
    },
    {
      "cell_type": "code",
      "metadata": {
        "id": "hgjmTNtTqyF_",
        "outputId": "50549fe5-8a3b-4877-b809-6679574a7339",
        "colab": {
          "base_uri": "https://localhost:8080/"
        }
      },
      "source": [
        "# im2colの処理確認\n",
        "input_data = np.random.rand(2, 1, 4, 4)*100//1 # number, channel, height, widthを表す\n",
        "print('========== input_data ===========\\n', input_data)\n",
        "print('==============================')\n",
        "filter_h = 3\n",
        "filter_w = 3\n",
        "stride = 1\n",
        "pad = 0\n",
        "col = im2col(input_data, filter_h=filter_h, filter_w=filter_w, stride=stride, pad=pad)\n",
        "print('============= col ==============\\n', col)\n",
        "print('==============================')"
      ],
      "execution_count": 16,
      "outputs": [
        {
          "output_type": "stream",
          "name": "stdout",
          "text": [
            "========== input_data ===========\n",
            " [[[[99. 42. 52. 83.]\n",
            "   [76.  8. 87.  0.]\n",
            "   [ 2. 85. 33. 18.]\n",
            "   [13. 84. 71.  5.]]]\n",
            "\n",
            "\n",
            " [[[78. 40. 86.  7.]\n",
            "   [54. 84.  3.  4.]\n",
            "   [87. 86.  6. 70.]\n",
            "   [46. 23. 19. 10.]]]]\n",
            "==============================\n",
            "============= col ==============\n",
            " [[99. 42. 52. 76.  8. 87.  2. 85. 33.]\n",
            " [42. 52. 83.  8. 87.  0. 85. 33. 18.]\n",
            " [76.  8. 87.  2. 85. 33. 13. 84. 71.]\n",
            " [ 8. 87.  0. 85. 33. 18. 84. 71.  5.]\n",
            " [78. 40. 86. 54. 84.  3. 87. 86.  6.]\n",
            " [40. 86.  7. 84.  3.  4. 86.  6. 70.]\n",
            " [54. 84.  3. 87. 86.  6. 46. 23. 19.]\n",
            " [84.  3.  4. 86.  6. 70. 23. 19. 10.]]\n",
            "==============================\n"
          ]
        }
      ]
    },
    {
      "cell_type": "code",
      "source": [
        "# im2colの処理確認\n",
        "# transpose 削除\n",
        "input_data = np.random.rand(2, 1, 4, 4)*100//1 # number, channel, height, widthを表す\n",
        "print('========== input_data ===========\\n', input_data)\n",
        "print('==============================')\n",
        "filter_h = 3\n",
        "filter_w = 3\n",
        "stride = 1\n",
        "pad = 0\n",
        "col = im2col(input_data, filter_h=filter_h, filter_w=filter_w, stride=stride, pad=pad)\n",
        "print('============= col ==============\\n', col)\n",
        "print('==============================')"
      ],
      "metadata": {
        "colab": {
          "base_uri": "https://localhost:8080/"
        },
        "id": "pZVcmHarqCQu",
        "outputId": "de5d44fe-e4b2-43b9-e316-22deb00af30f"
      },
      "execution_count": 6,
      "outputs": [
        {
          "output_type": "stream",
          "name": "stdout",
          "text": [
            "========== input_data ===========\n",
            " [[[[36.  4. 68. 77.]\n",
            "   [40. 60. 91. 74.]\n",
            "   [ 9. 45. 16. 28.]\n",
            "   [37. 37. 75.  9.]]]\n",
            "\n",
            "\n",
            " [[[47. 57. 15. 63.]\n",
            "   [16. 28. 43. 67.]\n",
            "   [98. 44. 49.  6.]\n",
            "   [27. 16. 93. 52.]]]]\n",
            "==============================\n",
            "============= col ==============\n",
            " [[36.  4. 68. 40. 60. 91.  9. 45. 16.]\n",
            " [ 4. 68. 77. 60. 91. 74. 45. 16. 28.]\n",
            " [40. 60. 91.  9. 45. 16. 37. 37. 75.]\n",
            " [60. 91. 74. 45. 16. 28. 37. 75.  9.]\n",
            " [47. 57. 15. 16. 28. 43. 98. 44. 49.]\n",
            " [57. 15. 63. 28. 43. 67. 44. 49.  6.]\n",
            " [16. 28. 43. 98. 44. 49. 27. 16. 93.]\n",
            " [28. 43. 67. 44. 49.  6. 16. 93. 52.]]\n",
            "==============================\n"
          ]
        }
      ]
    },
    {
      "cell_type": "code",
      "source": [
        "# im2colの処理確認\n",
        "input_data = np.random.rand(2, 1, 4, 4)*100//1 # number, channel, height, widthを表す\n",
        "print('========== input_data ===========\\n', input_data)\n",
        "print('==============================')\n",
        "filter_h = 4\n",
        "filter_w = 3\n",
        "stride = 1\n",
        "pad = 0\n",
        "col = im2col(input_data, filter_h=filter_h, filter_w=filter_w, stride=stride, pad=pad)\n",
        "print('============= col ==============\\n', col)\n",
        "print('==============================')"
      ],
      "metadata": {
        "colab": {
          "base_uri": "https://localhost:8080/"
        },
        "id": "4-ccs7uKqUpd",
        "outputId": "b30e47bd-c651-47da-f562-50dc18eb5f12"
      },
      "execution_count": 8,
      "outputs": [
        {
          "output_type": "stream",
          "name": "stdout",
          "text": [
            "========== input_data ===========\n",
            " [[[[ 1. 68. 83. 16.]\n",
            "   [10. 58. 16. 86.]\n",
            "   [28. 47. 10. 96.]\n",
            "   [65. 26.  5. 11.]]]\n",
            "\n",
            "\n",
            " [[[65. 11. 72. 85.]\n",
            "   [50. 15. 90. 54.]\n",
            "   [64. 85. 26.  8.]\n",
            "   [ 0. 42. 81. 88.]]]]\n",
            "==============================\n",
            "============= col ==============\n",
            " [[ 1. 68. 83. 10. 58. 16. 28. 47. 10. 65. 26.  5.]\n",
            " [68. 83. 16. 58. 16. 86. 47. 10. 96. 26.  5. 11.]\n",
            " [65. 11. 72. 50. 15. 90. 64. 85. 26.  0. 42. 81.]\n",
            " [11. 72. 85. 15. 90. 54. 85. 26.  8. 42. 81. 88.]]\n",
            "==============================\n"
          ]
        }
      ]
    },
    {
      "cell_type": "code",
      "source": [
        "# im2colの処理確認\n",
        "input_data = np.random.rand(2, 1, 4, 4)*100//1 # number, channel, height, widthを表す\n",
        "print('========== input_data ===========\\n', input_data)\n",
        "print('==============================')\n",
        "filter_h = 4\n",
        "filter_w = 4\n",
        "stride = 1\n",
        "pad = 0\n",
        "col = im2col(input_data, filter_h=filter_h, filter_w=filter_w, stride=stride, pad=pad)\n",
        "print('============= col ==============\\n', col)\n",
        "print('==============================')"
      ],
      "metadata": {
        "colab": {
          "base_uri": "https://localhost:8080/"
        },
        "id": "6YqkJtU3qXzi",
        "outputId": "18b4a59b-9f5f-46d1-e5d0-b5bced98cdea"
      },
      "execution_count": 9,
      "outputs": [
        {
          "output_type": "stream",
          "name": "stdout",
          "text": [
            "========== input_data ===========\n",
            " [[[[80. 61. 80. 77.]\n",
            "   [64. 78. 98. 27.]\n",
            "   [30.  3.  7. 64.]\n",
            "   [89. 74. 48. 51.]]]\n",
            "\n",
            "\n",
            " [[[13. 12. 16. 13.]\n",
            "   [47. 15. 79.  9.]\n",
            "   [ 4. 92. 62. 24.]\n",
            "   [64. 72. 91. 91.]]]]\n",
            "==============================\n",
            "============= col ==============\n",
            " [[80. 61. 80. 77. 64. 78. 98. 27. 30.  3.  7. 64. 89. 74. 48. 51.]\n",
            " [13. 12. 16. 13. 47. 15. 79.  9.  4. 92. 62. 24. 64. 72. 91. 91.]]\n",
            "==============================\n"
          ]
        }
      ]
    },
    {
      "cell_type": "code",
      "source": [
        "# im2colの処理確認\n",
        "input_data = np.random.rand(2, 1, 4, 4)*100//1 # number, channel, height, widthを表す\n",
        "print('========== input_data ===========\\n', input_data)\n",
        "print('==============================')\n",
        "filter_h = 3\n",
        "filter_w = 3\n",
        "stride = 2\n",
        "pad = 0\n",
        "col = im2col(input_data, filter_h=filter_h, filter_w=filter_w, stride=stride, pad=pad)\n",
        "print('============= col ==============\\n', col)\n",
        "print('==============================')"
      ],
      "metadata": {
        "colab": {
          "base_uri": "https://localhost:8080/"
        },
        "id": "14X7WnWHqa20",
        "outputId": "8e6f44ab-8c16-492e-a634-224ba8999920"
      },
      "execution_count": 10,
      "outputs": [
        {
          "output_type": "stream",
          "name": "stdout",
          "text": [
            "========== input_data ===========\n",
            " [[[[78. 10. 54. 48.]\n",
            "   [20. 29. 64.  4.]\n",
            "   [37. 14. 90. 51.]\n",
            "   [20. 56.  0. 82.]]]\n",
            "\n",
            "\n",
            " [[[27. 28. 66. 98.]\n",
            "   [16. 92. 53. 14.]\n",
            "   [10. 45. 54. 91.]\n",
            "   [63. 10. 16. 35.]]]]\n",
            "==============================\n",
            "============= col ==============\n",
            " [[78. 10. 54. 20. 29. 64. 37. 14. 90.]\n",
            " [27. 28. 66. 16. 92. 53. 10. 45. 54.]]\n",
            "==============================\n"
          ]
        }
      ]
    },
    {
      "cell_type": "code",
      "source": [
        "# im2colの処理確認\n",
        "input_data = np.random.rand(2, 1, 4, 4)*100//1 # number, channel, height, widthを表す\n",
        "print('========== input_data ===========\\n', input_data)\n",
        "print('==============================')\n",
        "filter_h = 3\n",
        "filter_w = 3\n",
        "stride = 1\n",
        "pad = 1\n",
        "col = im2col(input_data, filter_h=filter_h, filter_w=filter_w, stride=stride, pad=pad)\n",
        "print('============= col ==============\\n', col)\n",
        "print('==============================')"
      ],
      "metadata": {
        "colab": {
          "base_uri": "https://localhost:8080/"
        },
        "id": "hmAoWY_yqfYa",
        "outputId": "e38b29f5-c8b1-4462-bfff-dfedc61ecbc9"
      },
      "execution_count": 12,
      "outputs": [
        {
          "output_type": "stream",
          "name": "stdout",
          "text": [
            "========== input_data ===========\n",
            " [[[[17. 63. 66. 61.]\n",
            "   [98. 18. 59. 43.]\n",
            "   [95. 81. 30. 97.]\n",
            "   [84. 72. 60. 16.]]]\n",
            "\n",
            "\n",
            " [[[31. 87. 54. 60.]\n",
            "   [71. 73. 96.  5.]\n",
            "   [51. 61. 93. 68.]\n",
            "   [57. 85. 26. 86.]]]]\n",
            "==============================\n",
            "============= col ==============\n",
            " [[ 0.  0.  0.  0. 17. 63.  0. 98. 18.]\n",
            " [ 0.  0.  0. 17. 63. 66. 98. 18. 59.]\n",
            " [ 0.  0.  0. 63. 66. 61. 18. 59. 43.]\n",
            " [ 0.  0.  0. 66. 61.  0. 59. 43.  0.]\n",
            " [ 0. 17. 63.  0. 98. 18.  0. 95. 81.]\n",
            " [17. 63. 66. 98. 18. 59. 95. 81. 30.]\n",
            " [63. 66. 61. 18. 59. 43. 81. 30. 97.]\n",
            " [66. 61.  0. 59. 43.  0. 30. 97.  0.]\n",
            " [ 0. 98. 18.  0. 95. 81.  0. 84. 72.]\n",
            " [98. 18. 59. 95. 81. 30. 84. 72. 60.]\n",
            " [18. 59. 43. 81. 30. 97. 72. 60. 16.]\n",
            " [59. 43.  0. 30. 97.  0. 60. 16.  0.]\n",
            " [ 0. 95. 81.  0. 84. 72.  0.  0.  0.]\n",
            " [95. 81. 30. 84. 72. 60.  0.  0.  0.]\n",
            " [81. 30. 97. 72. 60. 16.  0.  0.  0.]\n",
            " [30. 97.  0. 60. 16.  0.  0.  0.  0.]\n",
            " [ 0.  0.  0.  0. 31. 87.  0. 71. 73.]\n",
            " [ 0.  0.  0. 31. 87. 54. 71. 73. 96.]\n",
            " [ 0.  0.  0. 87. 54. 60. 73. 96.  5.]\n",
            " [ 0.  0.  0. 54. 60.  0. 96.  5.  0.]\n",
            " [ 0. 31. 87.  0. 71. 73.  0. 51. 61.]\n",
            " [31. 87. 54. 71. 73. 96. 51. 61. 93.]\n",
            " [87. 54. 60. 73. 96.  5. 61. 93. 68.]\n",
            " [54. 60.  0. 96.  5.  0. 93. 68.  0.]\n",
            " [ 0. 71. 73.  0. 51. 61.  0. 57. 85.]\n",
            " [71. 73. 96. 51. 61. 93. 57. 85. 26.]\n",
            " [73. 96.  5. 61. 93. 68. 85. 26. 86.]\n",
            " [96.  5.  0. 93. 68.  0. 26. 86.  0.]\n",
            " [ 0. 51. 61.  0. 57. 85.  0.  0.  0.]\n",
            " [51. 61. 93. 57. 85. 26.  0.  0.  0.]\n",
            " [61. 93. 68. 85. 26. 86.  0.  0.  0.]\n",
            " [93. 68.  0. 26. 86.  0.  0.  0.  0.]]\n",
            "==============================\n"
          ]
        }
      ]
    },
    {
      "cell_type": "code",
      "source": [
        "# im2colの処理確認\n",
        "input_data = np.random.rand(2, 1, 5, 5)*100//1 # number, channel, height, widthを表す\n",
        "print('========== input_data ===========\\n', input_data)\n",
        "print('==============================')\n",
        "filter_h = 3\n",
        "filter_w = 3\n",
        "stride = 1\n",
        "pad = 0\n",
        "col = im2col(input_data, filter_h=filter_h, filter_w=filter_w, stride=stride, pad=pad)\n",
        "print('============= col ==============\\n', col)\n",
        "print('==============================')"
      ],
      "metadata": {
        "colab": {
          "base_uri": "https://localhost:8080/"
        },
        "id": "smt_5l6lqiRD",
        "outputId": "cc618717-1608-43a6-f780-8f5a73199b2a"
      },
      "execution_count": 13,
      "outputs": [
        {
          "output_type": "stream",
          "name": "stdout",
          "text": [
            "========== input_data ===========\n",
            " [[[[11. 75. 75. 18. 49.]\n",
            "   [34. 12. 26. 79.  8.]\n",
            "   [26. 77. 52. 42. 16.]\n",
            "   [84. 70. 81. 56. 65.]\n",
            "   [88. 22. 17. 74. 81.]]]\n",
            "\n",
            "\n",
            " [[[12. 71.  3. 15. 23.]\n",
            "   [71. 97. 27. 78. 20.]\n",
            "   [34. 94. 73. 65. 72.]\n",
            "   [81.  6. 38. 74. 22.]\n",
            "   [42. 40. 20. 53. 38.]]]]\n",
            "==============================\n",
            "============= col ==============\n",
            " [[11. 75. 75. 34. 12. 26. 26. 77. 52.]\n",
            " [75. 75. 18. 12. 26. 79. 77. 52. 42.]\n",
            " [75. 18. 49. 26. 79.  8. 52. 42. 16.]\n",
            " [34. 12. 26. 26. 77. 52. 84. 70. 81.]\n",
            " [12. 26. 79. 77. 52. 42. 70. 81. 56.]\n",
            " [26. 79.  8. 52. 42. 16. 81. 56. 65.]\n",
            " [26. 77. 52. 84. 70. 81. 88. 22. 17.]\n",
            " [77. 52. 42. 70. 81. 56. 22. 17. 74.]\n",
            " [52. 42. 16. 81. 56. 65. 17. 74. 81.]\n",
            " [12. 71.  3. 71. 97. 27. 34. 94. 73.]\n",
            " [71.  3. 15. 97. 27. 78. 94. 73. 65.]\n",
            " [ 3. 15. 23. 27. 78. 20. 73. 65. 72.]\n",
            " [71. 97. 27. 34. 94. 73. 81.  6. 38.]\n",
            " [97. 27. 78. 94. 73. 65.  6. 38. 74.]\n",
            " [27. 78. 20. 73. 65. 72. 38. 74. 22.]\n",
            " [34. 94. 73. 81.  6. 38. 42. 40. 20.]\n",
            " [94. 73. 65.  6. 38. 74. 40. 20. 53.]\n",
            " [73. 65. 72. 38. 74. 22. 20. 53. 38.]]\n",
            "==============================\n"
          ]
        }
      ]
    },
    {
      "cell_type": "markdown",
      "metadata": {
        "id": "LJUuuhH_qyGE"
      },
      "source": [
        "## column to image"
      ]
    },
    {
      "cell_type": "code",
      "metadata": {
        "id": "4fJv1WjHqyGE"
      },
      "source": [
        "# ２次元配列を画像データに変換\n",
        "def col2im(col, input_shape, filter_h, filter_w, stride=1, pad=0):\n",
        "    # N: number, C: channel, H: height, W: width\n",
        "    N, C, H, W = input_shape\n",
        "    # 切り捨て除算    \n",
        "    out_h = (H + 2 * pad - filter_h)//stride + 1\n",
        "    out_w = (W + 2 * pad - filter_w)//stride + 1\n",
        "    col = col.reshape(N, out_h, out_w, C, filter_h, filter_w).transpose(0, 3, 4, 5, 1, 2) # (N, filter_h, filter_w, out_h, out_w, C)\n",
        "\n",
        "    img = np.zeros((N, C, H + 2 * pad + stride - 1, W + 2 * pad + stride - 1))\n",
        "    for y in range(filter_h):\n",
        "        y_max = y + stride * out_h\n",
        "        for x in range(filter_w):\n",
        "            x_max = x + stride * out_w\n",
        "            img[:, :, y:y_max:stride, x:x_max:stride] += col[:, :, y, x, :, :]\n",
        "\n",
        "    return img[:, :, pad:H + pad, pad:W + pad]"
      ],
      "execution_count": 14,
      "outputs": []
    },
    {
      "cell_type": "markdown",
      "metadata": {
        "id": "5LL49exbqyGH"
      },
      "source": [
        "----------------------------------------------------------------------------------------------------------------------------------------------------------------------------\n",
        "## [try] col2imの処理を確認しよう\n",
        "・im2colの確認で出力したcolをimageに変換して確認しよう\n",
        "\n",
        "----------------------------------------------------------------------------------------------------------------------------------------------------------------------------"
      ]
    },
    {
      "cell_type": "code",
      "source": [
        "# ここにcol2imでの処理を書こう\n",
        "img = col2im(col, input_shape=input_data.shape, filter_h=filter_h, filter_w=filter_w, stride=stride, pad=pad)\n",
        "print(img)"
      ],
      "metadata": {
        "colab": {
          "base_uri": "https://localhost:8080/"
        },
        "id": "FzvHNQLnrn7h",
        "outputId": "8a2bc940-d196-4e57-966f-a1570626f805"
      },
      "execution_count": 17,
      "outputs": [
        {
          "output_type": "stream",
          "name": "stdout",
          "text": [
            "[[[[ 99.  84. 104.  83.]\n",
            "   [152.  32. 348.   0.]\n",
            "   [  4. 340. 132.  36.]\n",
            "   [ 13. 168. 142.   5.]]]\n",
            "\n",
            "\n",
            " [[[ 78.  80. 172.   7.]\n",
            "   [108. 336.  12.   8.]\n",
            "   [174. 344.  24. 140.]\n",
            "   [ 46.  46.  38.  10.]]]]\n"
          ]
        }
      ]
    },
    {
      "cell_type": "code",
      "metadata": {
        "id": "CRofdYlLqyGI",
        "outputId": "8025085e-eb0e-4ebd-a468-aab4a30da79a",
        "colab": {
          "base_uri": "https://localhost:8080/"
        }
      },
      "source": [
        "# ここにcol2imでの処理を書こう\n",
        "img = col2im(col, input_shape=input_data.shape, filter_h=filter_h, filter_w=filter_w, stride=stride, pad=pad)\n",
        "print(img)"
      ],
      "execution_count": 15,
      "outputs": [
        {
          "output_type": "stream",
          "name": "stdout",
          "text": [
            "[[[[ 11. 150. 225.  36.  49.]\n",
            "   [ 68.  48. 156. 316.  16.]\n",
            "   [ 78. 462. 468. 252.  48.]\n",
            "   [168. 280. 486. 224. 130.]\n",
            "   [ 88.  44.  51. 148.  81.]]]\n",
            "\n",
            "\n",
            " [[[ 12. 142.   9.  30.  23.]\n",
            "   [142. 388. 162. 312.  40.]\n",
            "   [102. 564. 657. 390. 216.]\n",
            "   [162.  24. 228. 296.  44.]\n",
            "   [ 42.  80.  60. 106.  38.]]]]\n"
          ]
        }
      ]
    },
    {
      "cell_type": "markdown",
      "metadata": {
        "id": "guurj1jcqyGK"
      },
      "source": [
        "## convolution class"
      ]
    },
    {
      "cell_type": "code",
      "metadata": {
        "id": "cj68mVF9qyGL"
      },
      "source": [
        "class Convolution:\n",
        "    # W: フィルター, b: バイアス\n",
        "    def __init__(self, W, b, stride=1, pad=0):\n",
        "        self.W = W\n",
        "        self.b = b\n",
        "        self.stride = stride\n",
        "        self.pad = pad\n",
        "        \n",
        "        # 中間データ（backward時に使用）\n",
        "        self.x = None   \n",
        "        self.col = None\n",
        "        self.col_W = None\n",
        "        \n",
        "        # フィルター・バイアスパラメータの勾配\n",
        "        self.dW = None\n",
        "        self.db = None\n",
        "\n",
        "    def forward(self, x):\n",
        "        # FN: filter_number, C: channel, FH: filter_height, FW: filter_width\n",
        "        FN, C, FH, FW = self.W.shape\n",
        "        N, C, H, W = x.shape\n",
        "        # 出力値のheight, width\n",
        "        out_h = 1 + int((H + 2 * self.pad - FH) / self.stride)\n",
        "        out_w = 1 + int((W + 2 * self.pad - FW) / self.stride)\n",
        "        \n",
        "        # xを行列に変換\n",
        "        col = im2col(x, FH, FW, self.stride, self.pad)\n",
        "        # フィルターをxに合わせた行列に変換\n",
        "        col_W = self.W.reshape(FN, -1).T\n",
        "\n",
        "        out = np.dot(col, col_W) + self.b\n",
        "        # 計算のために変えた形式を戻す\n",
        "        out = out.reshape(N, out_h, out_w, -1).transpose(0, 3, 1, 2)\n",
        "\n",
        "        self.x = x\n",
        "        self.col = col\n",
        "        self.col_W = col_W\n",
        "\n",
        "        return out\n",
        "\n",
        "    def backward(self, dout):\n",
        "        FN, C, FH, FW = self.W.shape\n",
        "        dout = dout.transpose(0, 2, 3, 1).reshape(-1, FN)\n",
        "\n",
        "        self.db = np.sum(dout, axis=0)\n",
        "        self.dW = np.dot(self.col.T, dout)\n",
        "        self.dW = self.dW.transpose(1, 0).reshape(FN, C, FH, FW)\n",
        "\n",
        "        dcol = np.dot(dout, self.col_W.T)\n",
        "        # dcolを画像データに変換\n",
        "        dx = col2im(dcol, self.x.shape, FH, FW, self.stride, self.pad)\n",
        "\n",
        "        return dx\n"
      ],
      "execution_count": 18,
      "outputs": []
    },
    {
      "cell_type": "markdown",
      "metadata": {
        "id": "S8DvcFLkqyGN"
      },
      "source": [
        "## pooling class"
      ]
    },
    {
      "cell_type": "code",
      "metadata": {
        "id": "fPFQEp6oqyGO"
      },
      "source": [
        "class Pooling:\n",
        "    def __init__(self, pool_h, pool_w, stride=1, pad=0):\n",
        "        self.pool_h = pool_h\n",
        "        self.pool_w = pool_w\n",
        "        self.stride = stride\n",
        "        self.pad = pad\n",
        "        \n",
        "        self.x = None\n",
        "        self.arg_max = None\n",
        "\n",
        "    def forward(self, x):\n",
        "        N, C, H, W = x.shape\n",
        "        out_h = int(1 + (H - self.pool_h) / self.stride)\n",
        "        out_w = int(1 + (W - self.pool_w) / self.stride)\n",
        "        \n",
        "        # xを行列に変換\n",
        "        col = im2col(x, self.pool_h, self.pool_w, self.stride, self.pad)\n",
        "        # プーリングのサイズに合わせてリサイズ\n",
        "        col = col.reshape(-1, self.pool_h*self.pool_w)\n",
        "        \n",
        "        #maxプーリング\n",
        "        arg_max = np.argmax(col, axis=1)\n",
        "        out = np.max(col, axis=1)\n",
        "        out = out.reshape(N, out_h, out_w, C).transpose(0, 3, 1, 2)\n",
        "\n",
        "        self.x = x\n",
        "        self.arg_max = arg_max\n",
        "\n",
        "        return out\n",
        "\n",
        "    def backward(self, dout):\n",
        "        dout = dout.transpose(0, 2, 3, 1)\n",
        "        \n",
        "        pool_size = self.pool_h * self.pool_w\n",
        "        dmax = np.zeros((dout.size, pool_size))\n",
        "        dmax[np.arange(self.arg_max.size), self.arg_max.flatten()] = dout.flatten()\n",
        "        dmax = dmax.reshape(dout.shape + (pool_size,)) \n",
        "        \n",
        "        dcol = dmax.reshape(dmax.shape[0] * dmax.shape[1] * dmax.shape[2], -1)\n",
        "        dx = col2im(dcol, self.x.shape, self.pool_h, self.pool_w, self.stride, self.pad)\n",
        "        \n",
        "        return dx\n"
      ],
      "execution_count": 19,
      "outputs": []
    },
    {
      "cell_type": "markdown",
      "metadata": {
        "id": "KLfCa2FsqyGR"
      },
      "source": [
        "## sinple convolution network class"
      ]
    },
    {
      "cell_type": "code",
      "metadata": {
        "id": "dr8AeVz2qyGR"
      },
      "source": [
        "class SimpleConvNet:\n",
        "    # conv - relu - pool - affine - relu - affine - softmax\n",
        "    def __init__(self, input_dim=(1, 28, 28), conv_param={'filter_num':30, 'filter_size':5, 'pad':0, 'stride':1},\n",
        "                 hidden_size=100, output_size=10, weight_init_std=0.01):\n",
        "        filter_num = conv_param['filter_num']        \n",
        "        filter_size = conv_param['filter_size']\n",
        "        filter_pad = conv_param['pad']\n",
        "        filter_stride = conv_param['stride']\n",
        "        input_size = input_dim[1]\n",
        "        conv_output_size = (input_size - filter_size + 2 * filter_pad) / filter_stride + 1\n",
        "        pool_output_size = int(filter_num * (conv_output_size / 2) * (conv_output_size / 2))\n",
        "\n",
        "        # 重みの初期化\n",
        "        self.params = {}\n",
        "        self.params['W1'] = weight_init_std * np.random.randn(filter_num, input_dim[0], filter_size, filter_size)\n",
        "        self.params['b1'] = np.zeros(filter_num)\n",
        "        self.params['W2'] = weight_init_std * np.random.randn(pool_output_size, hidden_size)\n",
        "        self.params['b2'] = np.zeros(hidden_size)\n",
        "        self.params['W3'] = weight_init_std * np.random.randn(hidden_size, output_size)\n",
        "        self.params['b3'] = np.zeros(output_size)\n",
        "\n",
        "        # レイヤの生成\n",
        "        self.layers = OrderedDict()\n",
        "        self.layers['Conv1'] = layers.Convolution(self.params['W1'], self.params['b1'], conv_param['stride'], conv_param['pad'])\n",
        "        self.layers['Relu1'] = layers.Relu()\n",
        "        self.layers['Pool1'] = layers.Pooling(pool_h=2, pool_w=2, stride=2)\n",
        "        self.layers['Affine1'] = layers.Affine(self.params['W2'], self.params['b2'])\n",
        "        self.layers['Relu2'] = layers.Relu()\n",
        "        self.layers['Affine2'] = layers.Affine(self.params['W3'], self.params['b3'])\n",
        "\n",
        "        self.last_layer = layers.SoftmaxWithLoss()\n",
        "\n",
        "    def predict(self, x):\n",
        "        for key in self.layers.keys():\n",
        "            x = self.layers[key].forward(x)\n",
        "        return x\n",
        "        \n",
        "    def loss(self, x, d):\n",
        "        y = self.predict(x)\n",
        "        return self.last_layer.forward(y, d)\n",
        "\n",
        "    def accuracy(self, x, d, batch_size=100):\n",
        "        if d.ndim != 1 : d = np.argmax(d, axis=1)\n",
        "        \n",
        "        acc = 0.0\n",
        "        \n",
        "        for i in range(int(x.shape[0] / batch_size)):\n",
        "            tx = x[i*batch_size:(i+1)*batch_size]\n",
        "            td = d[i*batch_size:(i+1)*batch_size]\n",
        "            y = self.predict(tx)\n",
        "            y = np.argmax(y, axis=1)\n",
        "            acc += np.sum(y == td) \n",
        "        \n",
        "        return acc / x.shape[0]\n",
        "\n",
        "    def gradient(self, x, d):\n",
        "        # forward\n",
        "        self.loss(x, d)\n",
        "        \n",
        "        # backward\n",
        "        dout = 1\n",
        "        dout = self.last_layer.backward(dout)\n",
        "        layers = list(self.layers.values())\n",
        "        \n",
        "        layers.reverse()\n",
        "        for layer in layers:\n",
        "            dout = layer.backward(dout)\n",
        "\n",
        "        # 設定\n",
        "        grad = {}\n",
        "        grad['W1'], grad['b1'] = self.layers['Conv1'].dW, self.layers['Conv1'].db\n",
        "        grad['W2'], grad['b2'] = self.layers['Affine1'].dW, self.layers['Affine1'].db\n",
        "        grad['W3'], grad['b3'] = self.layers['Affine2'].dW, self.layers['Affine2'].db\n",
        "\n",
        "        return grad"
      ],
      "execution_count": 20,
      "outputs": []
    },
    {
      "cell_type": "code",
      "metadata": {
        "scrolled": false,
        "id": "37cJRgGaqyGV",
        "outputId": "3de15027-9985-49aa-e023-fdc594ca73a7",
        "colab": {
          "base_uri": "https://localhost:8080/",
          "height": 1000
        }
      },
      "source": [
        "from common import optimizer\n",
        "\n",
        "# データの読み込み\n",
        "(x_train, d_train), (x_test, d_test) = load_mnist(flatten=False)\n",
        "\n",
        "print(\"データ読み込み完了\")\n",
        "\n",
        "# 処理に時間のかかる場合はデータを削減 \n",
        "x_train, d_train = x_train[:5000], d_train[:5000]\n",
        "x_test, d_test = x_test[:1000], d_test[:1000]\n",
        "\n",
        "\n",
        "network = SimpleConvNet(input_dim=(1,28,28), conv_param = {'filter_num': 30, 'filter_size': 5, 'pad': 0, 'stride': 1},\n",
        "                        hidden_size=100, output_size=10, weight_init_std=0.01)\n",
        "\n",
        "optimizer = optimizer.Adam()\n",
        "\n",
        "iters_num = 1000\n",
        "train_size = x_train.shape[0]\n",
        "batch_size = 100\n",
        "\n",
        "train_loss_list = []\n",
        "accuracies_train = []\n",
        "accuracies_test = []\n",
        "\n",
        "plot_interval=10\n",
        "\n",
        "\n",
        "\n",
        "for i in range(iters_num):\n",
        "    batch_mask = np.random.choice(train_size, batch_size)\n",
        "    x_batch = x_train[batch_mask]\n",
        "    d_batch = d_train[batch_mask]\n",
        "    \n",
        "    grad = network.gradient(x_batch, d_batch)\n",
        "    optimizer.update(network.params, grad)\n",
        "\n",
        "    loss = network.loss(x_batch, d_batch)\n",
        "    train_loss_list.append(loss)\n",
        "\n",
        "    if (i+1) % plot_interval == 0:\n",
        "        accr_train = network.accuracy(x_train, d_train)\n",
        "        accr_test = network.accuracy(x_test, d_test)\n",
        "        accuracies_train.append(accr_train)\n",
        "        accuracies_test.append(accr_test)\n",
        "        \n",
        "        print('Generation: ' + str(i+1) + '. 正答率(トレーニング) = ' + str(accr_train))\n",
        "        print('                : ' + str(i+1) + '. 正答率(テスト) = ' + str(accr_test))               \n",
        "\n",
        "lists = range(0, iters_num, plot_interval)\n",
        "plt.plot(lists, accuracies_train, label=\"training set\")\n",
        "plt.plot(lists, accuracies_test,  label=\"test set\")\n",
        "plt.legend(loc=\"lower right\")\n",
        "plt.title(\"accuracy\")\n",
        "plt.xlabel(\"count\")\n",
        "plt.ylabel(\"accuracy\")\n",
        "plt.ylim(0, 1.0)\n",
        "# グラフの表示\n",
        "plt.show()"
      ],
      "execution_count": 21,
      "outputs": [
        {
          "output_type": "stream",
          "name": "stdout",
          "text": [
            "データ読み込み完了\n",
            "Generation: 10. 正答率(トレーニング) = 0.3932\n",
            "                : 10. 正答率(テスト) = 0.418\n",
            "Generation: 20. 正答率(トレーニング) = 0.6048\n",
            "                : 20. 正答率(テスト) = 0.579\n",
            "Generation: 30. 正答率(トレーニング) = 0.7338\n",
            "                : 30. 正答率(テスト) = 0.685\n",
            "Generation: 40. 正答率(トレーニング) = 0.7786\n",
            "                : 40. 正答率(テスト) = 0.751\n",
            "Generation: 50. 正答率(トレーニング) = 0.8352\n",
            "                : 50. 正答率(テスト) = 0.802\n",
            "Generation: 60. 正答率(トレーニング) = 0.8618\n",
            "                : 60. 正答率(テスト) = 0.828\n",
            "Generation: 70. 正答率(トレーニング) = 0.8704\n",
            "                : 70. 正答率(テスト) = 0.853\n",
            "Generation: 80. 正答率(トレーニング) = 0.8878\n",
            "                : 80. 正答率(テスト) = 0.857\n",
            "Generation: 90. 正答率(トレーニング) = 0.8652\n",
            "                : 90. 正答率(テスト) = 0.83\n",
            "Generation: 100. 正答率(トレーニング) = 0.9018\n",
            "                : 100. 正答率(テスト) = 0.868\n",
            "Generation: 110. 正答率(トレーニング) = 0.9044\n",
            "                : 110. 正答率(テスト) = 0.881\n",
            "Generation: 120. 正答率(トレーニング) = 0.9104\n",
            "                : 120. 正答率(テスト) = 0.876\n",
            "Generation: 130. 正答率(トレーニング) = 0.9034\n",
            "                : 130. 正答率(テスト) = 0.872\n",
            "Generation: 140. 正答率(トレーニング) = 0.9138\n",
            "                : 140. 正答率(テスト) = 0.887\n",
            "Generation: 150. 正答率(トレーニング) = 0.9254\n",
            "                : 150. 正答率(テスト) = 0.89\n",
            "Generation: 160. 正答率(トレーニング) = 0.9102\n",
            "                : 160. 正答率(テスト) = 0.887\n",
            "Generation: 170. 正答率(トレーニング) = 0.9214\n",
            "                : 170. 正答率(テスト) = 0.895\n",
            "Generation: 180. 正答率(トレーニング) = 0.9236\n",
            "                : 180. 正答率(テスト) = 0.899\n",
            "Generation: 190. 正答率(トレーニング) = 0.9216\n",
            "                : 190. 正答率(テスト) = 0.889\n",
            "Generation: 200. 正答率(トレーニング) = 0.9328\n",
            "                : 200. 正答率(テスト) = 0.907\n",
            "Generation: 210. 正答率(トレーニング) = 0.9324\n",
            "                : 210. 正答率(テスト) = 0.909\n",
            "Generation: 220. 正答率(トレーニング) = 0.9294\n",
            "                : 220. 正答率(テスト) = 0.917\n",
            "Generation: 230. 正答率(トレーニング) = 0.933\n",
            "                : 230. 正答率(テスト) = 0.902\n",
            "Generation: 240. 正答率(トレーニング) = 0.9424\n",
            "                : 240. 正答率(テスト) = 0.916\n",
            "Generation: 250. 正答率(トレーニング) = 0.9446\n",
            "                : 250. 正答率(テスト) = 0.925\n",
            "Generation: 260. 正答率(トレーニング) = 0.9436\n",
            "                : 260. 正答率(テスト) = 0.912\n",
            "Generation: 270. 正答率(トレーニング) = 0.944\n",
            "                : 270. 正答率(テスト) = 0.911\n",
            "Generation: 280. 正答率(トレーニング) = 0.9418\n",
            "                : 280. 正答率(テスト) = 0.911\n",
            "Generation: 290. 正答率(トレーニング) = 0.9474\n",
            "                : 290. 正答率(テスト) = 0.914\n",
            "Generation: 300. 正答率(トレーニング) = 0.9514\n",
            "                : 300. 正答率(テスト) = 0.924\n",
            "Generation: 310. 正答率(トレーニング) = 0.9544\n",
            "                : 310. 正答率(テスト) = 0.928\n",
            "Generation: 320. 正答率(トレーニング) = 0.9596\n",
            "                : 320. 正答率(テスト) = 0.926\n",
            "Generation: 330. 正答率(トレーニング) = 0.9616\n",
            "                : 330. 正答率(テスト) = 0.936\n",
            "Generation: 340. 正答率(トレーニング) = 0.9582\n",
            "                : 340. 正答率(テスト) = 0.931\n",
            "Generation: 350. 正答率(トレーニング) = 0.9574\n",
            "                : 350. 正答率(テスト) = 0.931\n",
            "Generation: 360. 正答率(トレーニング) = 0.9592\n",
            "                : 360. 正答率(テスト) = 0.925\n",
            "Generation: 370. 正答率(トレーニング) = 0.9612\n",
            "                : 370. 正答率(テスト) = 0.931\n",
            "Generation: 380. 正答率(トレーニング) = 0.9598\n",
            "                : 380. 正答率(テスト) = 0.927\n",
            "Generation: 390. 正答率(トレーニング) = 0.9638\n",
            "                : 390. 正答率(テスト) = 0.932\n",
            "Generation: 400. 正答率(トレーニング) = 0.9554\n",
            "                : 400. 正答率(テスト) = 0.916\n",
            "Generation: 410. 正答率(トレーニング) = 0.9674\n",
            "                : 410. 正答率(テスト) = 0.927\n",
            "Generation: 420. 正答率(トレーニング) = 0.966\n",
            "                : 420. 正答率(テスト) = 0.944\n",
            "Generation: 430. 正答率(トレーニング) = 0.9702\n",
            "                : 430. 正答率(テスト) = 0.934\n",
            "Generation: 440. 正答率(トレーニング) = 0.966\n",
            "                : 440. 正答率(テスト) = 0.937\n",
            "Generation: 450. 正答率(トレーニング) = 0.964\n",
            "                : 450. 正答率(テスト) = 0.94\n",
            "Generation: 460. 正答率(トレーニング) = 0.964\n",
            "                : 460. 正答率(テスト) = 0.933\n",
            "Generation: 470. 正答率(トレーニング) = 0.967\n",
            "                : 470. 正答率(テスト) = 0.937\n",
            "Generation: 480. 正答率(トレーニング) = 0.9618\n",
            "                : 480. 正答率(テスト) = 0.932\n",
            "Generation: 490. 正答率(トレーニング) = 0.9734\n",
            "                : 490. 正答率(テスト) = 0.939\n",
            "Generation: 500. 正答率(トレーニング) = 0.974\n",
            "                : 500. 正答率(テスト) = 0.948\n",
            "Generation: 510. 正答率(トレーニング) = 0.978\n",
            "                : 510. 正答率(テスト) = 0.945\n",
            "Generation: 520. 正答率(トレーニング) = 0.9782\n",
            "                : 520. 正答率(テスト) = 0.948\n",
            "Generation: 530. 正答率(トレーニング) = 0.979\n",
            "                : 530. 正答率(テスト) = 0.949\n",
            "Generation: 540. 正答率(トレーニング) = 0.9754\n",
            "                : 540. 正答率(テスト) = 0.941\n",
            "Generation: 550. 正答率(トレーニング) = 0.9796\n",
            "                : 550. 正答率(テスト) = 0.95\n",
            "Generation: 560. 正答率(トレーニング) = 0.9814\n",
            "                : 560. 正答率(テスト) = 0.953\n",
            "Generation: 570. 正答率(トレーニング) = 0.9784\n",
            "                : 570. 正答率(テスト) = 0.948\n",
            "Generation: 580. 正答率(トレーニング) = 0.9828\n",
            "                : 580. 正答率(テスト) = 0.949\n",
            "Generation: 590. 正答率(トレーニング) = 0.9816\n",
            "                : 590. 正答率(テスト) = 0.951\n",
            "Generation: 600. 正答率(トレーニング) = 0.9834\n",
            "                : 600. 正答率(テスト) = 0.951\n",
            "Generation: 610. 正答率(トレーニング) = 0.984\n",
            "                : 610. 正答率(テスト) = 0.952\n",
            "Generation: 620. 正答率(トレーニング) = 0.9818\n",
            "                : 620. 正答率(テスト) = 0.948\n",
            "Generation: 630. 正答率(トレーニング) = 0.9844\n",
            "                : 630. 正答率(テスト) = 0.952\n",
            "Generation: 640. 正答率(トレーニング) = 0.9816\n",
            "                : 640. 正答率(テスト) = 0.946\n",
            "Generation: 650. 正答率(トレーニング) = 0.9838\n",
            "                : 650. 正答率(テスト) = 0.947\n",
            "Generation: 660. 正答率(トレーニング) = 0.9828\n",
            "                : 660. 正答率(テスト) = 0.952\n",
            "Generation: 670. 正答率(トレーニング) = 0.9864\n",
            "                : 670. 正答率(テスト) = 0.952\n",
            "Generation: 680. 正答率(トレーニング) = 0.9868\n",
            "                : 680. 正答率(テスト) = 0.952\n",
            "Generation: 690. 正答率(トレーニング) = 0.985\n",
            "                : 690. 正答率(テスト) = 0.948\n",
            "Generation: 700. 正答率(トレーニング) = 0.987\n",
            "                : 700. 正答率(テスト) = 0.951\n",
            "Generation: 710. 正答率(トレーニング) = 0.9868\n",
            "                : 710. 正答率(テスト) = 0.956\n",
            "Generation: 720. 正答率(トレーニング) = 0.9886\n",
            "                : 720. 正答率(テスト) = 0.953\n",
            "Generation: 730. 正答率(トレーニング) = 0.984\n",
            "                : 730. 正答率(テスト) = 0.949\n",
            "Generation: 740. 正答率(トレーニング) = 0.9878\n",
            "                : 740. 正答率(テスト) = 0.953\n",
            "Generation: 750. 正答率(トレーニング) = 0.9852\n",
            "                : 750. 正答率(テスト) = 0.952\n",
            "Generation: 760. 正答率(トレーニング) = 0.9866\n",
            "                : 760. 正答率(テスト) = 0.949\n",
            "Generation: 770. 正答率(トレーニング) = 0.9874\n",
            "                : 770. 正答率(テスト) = 0.95\n",
            "Generation: 780. 正答率(トレーニング) = 0.9904\n",
            "                : 780. 正答率(テスト) = 0.949\n",
            "Generation: 790. 正答率(トレーニング) = 0.991\n",
            "                : 790. 正答率(テスト) = 0.956\n",
            "Generation: 800. 正答率(トレーニング) = 0.9922\n",
            "                : 800. 正答率(テスト) = 0.956\n",
            "Generation: 810. 正答率(トレーニング) = 0.9882\n",
            "                : 810. 正答率(テスト) = 0.949\n",
            "Generation: 820. 正答率(トレーニング) = 0.9898\n",
            "                : 820. 正答率(テスト) = 0.951\n",
            "Generation: 830. 正答率(トレーニング) = 0.9912\n",
            "                : 830. 正答率(テスト) = 0.954\n",
            "Generation: 840. 正答率(トレーニング) = 0.9912\n",
            "                : 840. 正答率(テスト) = 0.957\n",
            "Generation: 850. 正答率(トレーニング) = 0.9894\n",
            "                : 850. 正答率(テスト) = 0.96\n",
            "Generation: 860. 正答率(トレーニング) = 0.9916\n",
            "                : 860. 正答率(テスト) = 0.958\n",
            "Generation: 870. 正答率(トレーニング) = 0.9918\n",
            "                : 870. 正答率(テスト) = 0.958\n",
            "Generation: 880. 正答率(トレーニング) = 0.993\n",
            "                : 880. 正答率(テスト) = 0.952\n",
            "Generation: 890. 正答率(トレーニング) = 0.9922\n",
            "                : 890. 正答率(テスト) = 0.95\n",
            "Generation: 900. 正答率(トレーニング) = 0.9942\n",
            "                : 900. 正答率(テスト) = 0.954\n",
            "Generation: 910. 正答率(トレーニング) = 0.9932\n",
            "                : 910. 正答率(テスト) = 0.957\n",
            "Generation: 920. 正答率(トレーニング) = 0.9928\n",
            "                : 920. 正答率(テスト) = 0.951\n",
            "Generation: 930. 正答率(トレーニング) = 0.995\n",
            "                : 930. 正答率(テスト) = 0.951\n",
            "Generation: 940. 正答率(トレーニング) = 0.9926\n",
            "                : 940. 正答率(テスト) = 0.953\n",
            "Generation: 950. 正答率(トレーニング) = 0.9946\n",
            "                : 950. 正答率(テスト) = 0.956\n",
            "Generation: 960. 正答率(トレーニング) = 0.997\n",
            "                : 960. 正答率(テスト) = 0.956\n",
            "Generation: 970. 正答率(トレーニング) = 0.9954\n",
            "                : 970. 正答率(テスト) = 0.957\n",
            "Generation: 980. 正答率(トレーニング) = 0.9944\n",
            "                : 980. 正答率(テスト) = 0.956\n",
            "Generation: 990. 正答率(トレーニング) = 0.9958\n",
            "                : 990. 正答率(テスト) = 0.959\n",
            "Generation: 1000. 正答率(トレーニング) = 0.9956\n",
            "                : 1000. 正答率(テスト) = 0.957\n"
          ]
        },
        {
          "output_type": "display_data",
          "data": {
            "image/png": "[encoded data removed]",
            "text/plain": [
              "<Figure size 432x288 with 1 Axes>"
            ]
          },
          "metadata": {
            "needs_background": "light"
          }
        }
      ]
    }
  ]
}